{
 "cells": [
  {
   "cell_type": "code",
   "execution_count": 82,
   "metadata": {},
   "outputs": [],
   "source": [
    "import platform\n",
    "from matplotlib import font_manager, rc\n",
    "plt.rcParams['axes.unicode_minus'] = False\n",
    "\n",
    "if platform.system() == 'Darwin':\n",
    "    rc('font', family = 'AppleGothic')\n",
    "elif platform.system() == 'Windows':\n",
    "    path = \"c:/Windows/Fonts/malgun.ttf\"\n",
    "    font_name = font_manager.FontProperties(fname = path).get_name()\n",
    "    rc('font', family = font_name)\n",
    "else:\n",
    "    print('Unknown system... sorry~~~~')"
   ]
  },
  {
   "cell_type": "code",
   "execution_count": 65,
   "metadata": {},
   "outputs": [
    {
     "data": {
      "text/html": [
       "<div>\n",
       "<style scoped>\n",
       "    .dataframe tbody tr th:only-of-type {\n",
       "        vertical-align: middle;\n",
       "    }\n",
       "\n",
       "    .dataframe tbody tr th {\n",
       "        vertical-align: top;\n",
       "    }\n",
       "\n",
       "    .dataframe thead th {\n",
       "        text-align: right;\n",
       "    }\n",
       "</style>\n",
       "<table border=\"1\" class=\"dataframe\">\n",
       "  <thead>\n",
       "    <tr style=\"text-align: right;\">\n",
       "      <th></th>\n",
       "      <th>구별</th>\n",
       "      <th>소계</th>\n",
       "      <th>2013년도 이전</th>\n",
       "      <th>2014년</th>\n",
       "      <th>2015년</th>\n",
       "      <th>2016년</th>\n",
       "    </tr>\n",
       "  </thead>\n",
       "  <tbody>\n",
       "    <tr>\n",
       "      <th>0</th>\n",
       "      <td>강남구</td>\n",
       "      <td>2780</td>\n",
       "      <td>1292</td>\n",
       "      <td>430</td>\n",
       "      <td>584</td>\n",
       "      <td>932</td>\n",
       "    </tr>\n",
       "    <tr>\n",
       "      <th>1</th>\n",
       "      <td>강동구</td>\n",
       "      <td>773</td>\n",
       "      <td>379</td>\n",
       "      <td>99</td>\n",
       "      <td>155</td>\n",
       "      <td>377</td>\n",
       "    </tr>\n",
       "    <tr>\n",
       "      <th>2</th>\n",
       "      <td>강북구</td>\n",
       "      <td>748</td>\n",
       "      <td>369</td>\n",
       "      <td>120</td>\n",
       "      <td>138</td>\n",
       "      <td>204</td>\n",
       "    </tr>\n",
       "    <tr>\n",
       "      <th>3</th>\n",
       "      <td>강서구</td>\n",
       "      <td>884</td>\n",
       "      <td>388</td>\n",
       "      <td>258</td>\n",
       "      <td>184</td>\n",
       "      <td>81</td>\n",
       "    </tr>\n",
       "    <tr>\n",
       "      <th>4</th>\n",
       "      <td>관악구</td>\n",
       "      <td>1496</td>\n",
       "      <td>846</td>\n",
       "      <td>260</td>\n",
       "      <td>390</td>\n",
       "      <td>613</td>\n",
       "    </tr>\n",
       "  </tbody>\n",
       "</table>\n",
       "</div>"
      ],
      "text/plain": [
       "    구별    소계  2013년도 이전  2014년  2015년  2016년\n",
       "0  강남구  2780       1292    430    584    932\n",
       "1  강동구   773        379     99    155    377\n",
       "2  강북구   748        369    120    138    204\n",
       "3  강서구   884        388    258    184     81\n",
       "4  관악구  1496        846    260    390    613"
      ]
     },
     "execution_count": 65,
     "metadata": {},
     "output_type": "execute_result"
    }
   ],
   "source": [
    "import pandas as pd\n",
    "import numpy as np\n",
    "import matplotlib.pyplot as plt\n",
    "%matplotlib inline\n",
    "CCTV_Seoul = pd.read_csv('C:/Users/revol/\\DataScience/data/CCTV_in_Seoul.csv', encoding = 'utf-8')\n",
    "CCTV_Seoul.head()\n",
    "CCTV_Seoul.columns\n",
    "CCTV_Seoul.rename(columns = {CCTV_Seoul.columns[0] : '구별'}, inplace = True)\n",
    "CCTV_Seoul.head()"
   ]
  },
  {
   "cell_type": "code",
   "execution_count": 16,
   "metadata": {},
   "outputs": [
    {
     "data": {
      "text/html": [
       "<div>\n",
       "<style scoped>\n",
       "    .dataframe tbody tr th:only-of-type {\n",
       "        vertical-align: middle;\n",
       "    }\n",
       "\n",
       "    .dataframe tbody tr th {\n",
       "        vertical-align: top;\n",
       "    }\n",
       "\n",
       "    .dataframe thead th {\n",
       "        text-align: right;\n",
       "    }\n",
       "</style>\n",
       "<table border=\"1\" class=\"dataframe\">\n",
       "  <thead>\n",
       "    <tr style=\"text-align: right;\">\n",
       "      <th></th>\n",
       "      <th>구별</th>\n",
       "      <th>인구수</th>\n",
       "      <th>한국인</th>\n",
       "      <th>외국인</th>\n",
       "      <th>고령자</th>\n",
       "    </tr>\n",
       "  </thead>\n",
       "  <tbody>\n",
       "    <tr>\n",
       "      <th>0</th>\n",
       "      <td>합계</td>\n",
       "      <td>10197604.0</td>\n",
       "      <td>9926968.0</td>\n",
       "      <td>270636.0</td>\n",
       "      <td>1321458.0</td>\n",
       "    </tr>\n",
       "    <tr>\n",
       "      <th>1</th>\n",
       "      <td>종로구</td>\n",
       "      <td>162820.0</td>\n",
       "      <td>153589.0</td>\n",
       "      <td>9231.0</td>\n",
       "      <td>25425.0</td>\n",
       "    </tr>\n",
       "    <tr>\n",
       "      <th>2</th>\n",
       "      <td>중구</td>\n",
       "      <td>133240.0</td>\n",
       "      <td>124312.0</td>\n",
       "      <td>8928.0</td>\n",
       "      <td>20764.0</td>\n",
       "    </tr>\n",
       "    <tr>\n",
       "      <th>3</th>\n",
       "      <td>용산구</td>\n",
       "      <td>244203.0</td>\n",
       "      <td>229456.0</td>\n",
       "      <td>14747.0</td>\n",
       "      <td>36231.0</td>\n",
       "    </tr>\n",
       "    <tr>\n",
       "      <th>4</th>\n",
       "      <td>성동구</td>\n",
       "      <td>311244.0</td>\n",
       "      <td>303380.0</td>\n",
       "      <td>7864.0</td>\n",
       "      <td>39997.0</td>\n",
       "    </tr>\n",
       "  </tbody>\n",
       "</table>\n",
       "</div>"
      ],
      "text/plain": [
       "    구별         인구수        한국인       외국인        고령자\n",
       "0   합계  10197604.0  9926968.0  270636.0  1321458.0\n",
       "1  종로구    162820.0   153589.0    9231.0    25425.0\n",
       "2   중구    133240.0   124312.0    8928.0    20764.0\n",
       "3  용산구    244203.0   229456.0   14747.0    36231.0\n",
       "4  성동구    311244.0   303380.0    7864.0    39997.0"
      ]
     },
     "execution_count": 16,
     "metadata": {},
     "output_type": "execute_result"
    }
   ],
   "source": [
    "pop_Seoul = pd.read_excel('C:/Users/revol/DataScience/data/population_in_Seoul.xls', header = 2, usecols = 'B, D, G, J, N')\n",
    "pop_Seoul.head()\n",
    "pop_Seoul.rename(columns = {pop_Seoul.columns[0] : '구별',\n",
    "                            pop_Seoul.columns[1] : '인구수',\n",
    "                           pop_Seoul.columns[2] : '한국인',\n",
    "                           pop_Seoul.columns[3] : '외국인',\n",
    "                           pop_Seoul.columns[4] : '고령자'}, inplace = True)\n",
    "pop_Seoul.head()"
   ]
  },
  {
   "cell_type": "code",
   "execution_count": 30,
   "metadata": {},
   "outputs": [
    {
     "data": {
      "text/plain": [
       "A     3.553038\n",
       "B     1.877193\n",
       "C     1.200913\n",
       " D    2.666798\n",
       "dtype: float64"
      ]
     },
     "execution_count": 30,
     "metadata": {},
     "output_type": "execute_result"
    }
   ],
   "source": [
    "dates = pd.date_range('20130101', periods = 6) \n",
    "dates\n",
    "df = pd.DataFrame(np.random.randn(6, 4), index = dates, columns = ['A', 'B', 'C',' D'])\n",
    "df.values\n",
    "df.describe() #통계적 개요\n",
    "df.sort_values(by = 'B', ascending = False)\n",
    "df['20130102':'20130104'] #여기에 해당하는 인덱스를 출력함\n",
    "df.loc[dates[0]] #location\n",
    "df.loc[:, ['A', 'B']] # 모든 행의 컬럼 'A', 'B'만 보여줌\n",
    "df.loc['20130102':'20130104', 'A':'C'] # 앞에는 행, 뒤는 열 각각 보여주고 싶으면 LIST로\n",
    "df[df.A > 0]\n",
    "df2 = df.copy() # 그냥 =로 이용해서 복사하면 데이터가 복사되는 것이 아니라 '위치'가 복사가 된다.\n",
    "df.apply(np.cumsum) # cumsum : 누적합\n",
    "df.apply(lambda x : x.max() - x.min())"
   ]
  },
  {
   "cell_type": "code",
   "execution_count": 36,
   "metadata": {},
   "outputs": [
    {
     "data": {
      "text/html": [
       "<div>\n",
       "<style scoped>\n",
       "    .dataframe tbody tr th:only-of-type {\n",
       "        vertical-align: middle;\n",
       "    }\n",
       "\n",
       "    .dataframe tbody tr th {\n",
       "        vertical-align: top;\n",
       "    }\n",
       "\n",
       "    .dataframe thead th {\n",
       "        text-align: right;\n",
       "    }\n",
       "</style>\n",
       "<table border=\"1\" class=\"dataframe\">\n",
       "  <thead>\n",
       "    <tr style=\"text-align: right;\">\n",
       "      <th></th>\n",
       "      <th>구별</th>\n",
       "      <th>소계</th>\n",
       "      <th>2013년도 이전</th>\n",
       "      <th>2014년</th>\n",
       "      <th>2015년</th>\n",
       "      <th>2016년</th>\n",
       "      <th>최근증가율</th>\n",
       "    </tr>\n",
       "  </thead>\n",
       "  <tbody>\n",
       "    <tr>\n",
       "      <th>22</th>\n",
       "      <td>종로구</td>\n",
       "      <td>1002</td>\n",
       "      <td>464</td>\n",
       "      <td>314</td>\n",
       "      <td>211</td>\n",
       "      <td>630</td>\n",
       "      <td>248.922414</td>\n",
       "    </tr>\n",
       "    <tr>\n",
       "      <th>9</th>\n",
       "      <td>도봉구</td>\n",
       "      <td>485</td>\n",
       "      <td>238</td>\n",
       "      <td>159</td>\n",
       "      <td>42</td>\n",
       "      <td>386</td>\n",
       "      <td>246.638655</td>\n",
       "    </tr>\n",
       "    <tr>\n",
       "      <th>12</th>\n",
       "      <td>마포구</td>\n",
       "      <td>574</td>\n",
       "      <td>314</td>\n",
       "      <td>118</td>\n",
       "      <td>169</td>\n",
       "      <td>379</td>\n",
       "      <td>212.101911</td>\n",
       "    </tr>\n",
       "    <tr>\n",
       "      <th>8</th>\n",
       "      <td>노원구</td>\n",
       "      <td>1265</td>\n",
       "      <td>542</td>\n",
       "      <td>57</td>\n",
       "      <td>451</td>\n",
       "      <td>516</td>\n",
       "      <td>188.929889</td>\n",
       "    </tr>\n",
       "    <tr>\n",
       "      <th>1</th>\n",
       "      <td>강동구</td>\n",
       "      <td>773</td>\n",
       "      <td>379</td>\n",
       "      <td>99</td>\n",
       "      <td>155</td>\n",
       "      <td>377</td>\n",
       "      <td>166.490765</td>\n",
       "    </tr>\n",
       "  </tbody>\n",
       "</table>\n",
       "</div>"
      ],
      "text/plain": [
       "     구별    소계  2013년도 이전  2014년  2015년  2016년       최근증가율\n",
       "22  종로구  1002        464    314    211    630  248.922414\n",
       "9   도봉구   485        238    159     42    386  246.638655\n",
       "12  마포구   574        314    118    169    379  212.101911\n",
       "8   노원구  1265        542     57    451    516  188.929889\n",
       "1   강동구   773        379     99    155    377  166.490765"
      ]
     },
     "execution_count": 36,
     "metadata": {},
     "output_type": "execute_result"
    }
   ],
   "source": [
    "CCTV_Seoul.head()\n",
    "CCTV_Seoul.sort_values(by = '소계', ascending = True).head(5)\n",
    "CCTV_Seoul.sort_values(by = '소계', ascending = False).head(5)\n",
    "CCTV_Seoul['최근증가율'] = (CCTV_Seoul['2016년'] + CCTV_Seoul['2015년'] + CCTV_Seoul['2014년']) / CCTV_Seoul['2013년도 이전'] * 100\n",
    "CCTV_Seoul.sort_values(by = '최근증가율', ascending = False).head(5)"
   ]
  },
  {
   "cell_type": "code",
   "execution_count": 45,
   "metadata": {},
   "outputs": [
    {
     "data": {
      "text/html": [
       "<div>\n",
       "<style scoped>\n",
       "    .dataframe tbody tr th:only-of-type {\n",
       "        vertical-align: middle;\n",
       "    }\n",
       "\n",
       "    .dataframe tbody tr th {\n",
       "        vertical-align: top;\n",
       "    }\n",
       "\n",
       "    .dataframe thead th {\n",
       "        text-align: right;\n",
       "    }\n",
       "</style>\n",
       "<table border=\"1\" class=\"dataframe\">\n",
       "  <thead>\n",
       "    <tr style=\"text-align: right;\">\n",
       "      <th></th>\n",
       "      <th>구별</th>\n",
       "      <th>인구수</th>\n",
       "      <th>한국인</th>\n",
       "      <th>외국인</th>\n",
       "      <th>고령자</th>\n",
       "      <th>외국인비율</th>\n",
       "      <th>고령자비율</th>\n",
       "    </tr>\n",
       "  </thead>\n",
       "  <tbody>\n",
       "    <tr>\n",
       "      <th>1</th>\n",
       "      <td>종로구</td>\n",
       "      <td>162820.0</td>\n",
       "      <td>153589.0</td>\n",
       "      <td>9231.0</td>\n",
       "      <td>25425.0</td>\n",
       "      <td>5.669451</td>\n",
       "      <td>15.615404</td>\n",
       "    </tr>\n",
       "    <tr>\n",
       "      <th>2</th>\n",
       "      <td>중구</td>\n",
       "      <td>133240.0</td>\n",
       "      <td>124312.0</td>\n",
       "      <td>8928.0</td>\n",
       "      <td>20764.0</td>\n",
       "      <td>6.700690</td>\n",
       "      <td>15.583909</td>\n",
       "    </tr>\n",
       "    <tr>\n",
       "      <th>3</th>\n",
       "      <td>용산구</td>\n",
       "      <td>244203.0</td>\n",
       "      <td>229456.0</td>\n",
       "      <td>14747.0</td>\n",
       "      <td>36231.0</td>\n",
       "      <td>6.038828</td>\n",
       "      <td>14.836427</td>\n",
       "    </tr>\n",
       "    <tr>\n",
       "      <th>4</th>\n",
       "      <td>성동구</td>\n",
       "      <td>311244.0</td>\n",
       "      <td>303380.0</td>\n",
       "      <td>7864.0</td>\n",
       "      <td>39997.0</td>\n",
       "      <td>2.526635</td>\n",
       "      <td>12.850689</td>\n",
       "    </tr>\n",
       "    <tr>\n",
       "      <th>5</th>\n",
       "      <td>광진구</td>\n",
       "      <td>372164.0</td>\n",
       "      <td>357211.0</td>\n",
       "      <td>14953.0</td>\n",
       "      <td>42214.0</td>\n",
       "      <td>4.017852</td>\n",
       "      <td>11.342849</td>\n",
       "    </tr>\n",
       "  </tbody>\n",
       "</table>\n",
       "</div>"
      ],
      "text/plain": [
       "    구별       인구수       한국인      외국인      고령자     외국인비율      고령자비율\n",
       "1  종로구  162820.0  153589.0   9231.0  25425.0  5.669451  15.615404\n",
       "2   중구  133240.0  124312.0   8928.0  20764.0  6.700690  15.583909\n",
       "3  용산구  244203.0  229456.0  14747.0  36231.0  6.038828  14.836427\n",
       "4  성동구  311244.0  303380.0   7864.0  39997.0  2.526635  12.850689\n",
       "5  광진구  372164.0  357211.0  14953.0  42214.0  4.017852  11.342849"
      ]
     },
     "execution_count": 45,
     "metadata": {},
     "output_type": "execute_result"
    }
   ],
   "source": [
    "pop_Seoul['구별'].unique()\n",
    "pop_Seoul[pop_Seoul['구별'].isnull()]\n",
    "pop_Seoul['외국인비율'] = pop_Seoul['외국인'] / pop_Seoul['인구수'] * 100\n",
    "pop_Seoul['고령자비율'] = pop_Seoul['고령자'] / pop_Seoul['인구수'] * 100\n",
    "pop_Seoul.head()"
   ]
  },
  {
   "cell_type": "code",
   "execution_count": 55,
   "metadata": {},
   "outputs": [
    {
     "data": {
      "text/html": [
       "<div>\n",
       "<style scoped>\n",
       "    .dataframe tbody tr th:only-of-type {\n",
       "        vertical-align: middle;\n",
       "    }\n",
       "\n",
       "    .dataframe tbody tr th {\n",
       "        vertical-align: top;\n",
       "    }\n",
       "\n",
       "    .dataframe thead th {\n",
       "        text-align: right;\n",
       "    }\n",
       "</style>\n",
       "<table border=\"1\" class=\"dataframe\">\n",
       "  <thead>\n",
       "    <tr style=\"text-align: right;\">\n",
       "      <th></th>\n",
       "      <th>key</th>\n",
       "      <th>A</th>\n",
       "      <th>B</th>\n",
       "      <th>C</th>\n",
       "      <th>D</th>\n",
       "    </tr>\n",
       "  </thead>\n",
       "  <tbody>\n",
       "    <tr>\n",
       "      <th>0</th>\n",
       "      <td>K0</td>\n",
       "      <td>A0</td>\n",
       "      <td>B0</td>\n",
       "      <td>C0</td>\n",
       "      <td>D0</td>\n",
       "    </tr>\n",
       "    <tr>\n",
       "      <th>1</th>\n",
       "      <td>K4</td>\n",
       "      <td>A1</td>\n",
       "      <td>B1</td>\n",
       "      <td>NaN</td>\n",
       "      <td>NaN</td>\n",
       "    </tr>\n",
       "    <tr>\n",
       "      <th>2</th>\n",
       "      <td>K2</td>\n",
       "      <td>A2</td>\n",
       "      <td>B2</td>\n",
       "      <td>C2</td>\n",
       "      <td>D2</td>\n",
       "    </tr>\n",
       "    <tr>\n",
       "      <th>3</th>\n",
       "      <td>K3</td>\n",
       "      <td>A3</td>\n",
       "      <td>B3</td>\n",
       "      <td>C3</td>\n",
       "      <td>D3</td>\n",
       "    </tr>\n",
       "    <tr>\n",
       "      <th>4</th>\n",
       "      <td>K1</td>\n",
       "      <td>NaN</td>\n",
       "      <td>NaN</td>\n",
       "      <td>C1</td>\n",
       "      <td>D1</td>\n",
       "    </tr>\n",
       "  </tbody>\n",
       "</table>\n",
       "</div>"
      ],
      "text/plain": [
       "  key    A    B    C    D\n",
       "0  K0   A0   B0   C0   D0\n",
       "1  K4   A1   B1  NaN  NaN\n",
       "2  K2   A2   B2   C2   D2\n",
       "3  K3   A3   B3   C3   D3\n",
       "4  K1  NaN  NaN   C1   D1"
      ]
     },
     "execution_count": 55,
     "metadata": {},
     "output_type": "execute_result"
    }
   ],
   "source": [
    "df1 = pd.DataFrame({'A' : ['A0', 'A1', 'A2', 'A3'],\n",
    "                   'B' : ['B0', 'B1', 'B2', 'B3'],\n",
    "                   'C' : ['C0', 'C1', 'C2', 'C3'],\n",
    "                   'D' : ['D0', 'D1', 'D2', 'D3']}\n",
    "                  ,index = [0, 1, 2, 3])\n",
    "df4 = pd.DataFrame({'B' : ['B2', 'B3', 'B6', 'B7'],\n",
    "                   'D' : ['D2', 'D3', 'D6', 'D7'],\n",
    "                   'F' : ['F2', 'F3', 'F6', 'F7']},\n",
    "                  index = [2, 3, 6, 7])\n",
    "result = pd.concat([df1, df4], axis = 1, join = 'inner') #공통된 인덱스로 합침\n",
    "#result = pd.concat([df1, df4], axis = 1, join_axes = [df1.index]) #df1인데스에 맞춤\n",
    "result = pd.concat([df1, df4], ignore_index = True) #공통된 인덱스로 합침\n",
    "result\n",
    "\n",
    "left = pd.DataFrame({'key' :['K0', 'K4', 'K2', 'K3'],\n",
    "                    'A' : ['A0', 'A1', 'A2', 'A3'],\n",
    "                    'B' : ['B0', 'B1', 'B2', 'B3']})\n",
    "right = pd.DataFrame({'key' :['K0', 'K1', 'K2', 'K3'],\n",
    "                    'C' : ['C0', 'C1', 'C2', 'C3'],\n",
    "                    'D' : ['D0', 'D1', 'D2', 'D3']})\n",
    "pd.merge(left, right, on= 'key') #교집합으로 갖는거만\n",
    "pd.merge(left, right, how = 'left', on = 'key')\n",
    "pd.merge(left, right, how = 'right', on = 'key')\n",
    "pd.merge(left, right, how = 'outer', on = 'key')"
   ]
  },
  {
   "cell_type": "code",
   "execution_count": 87,
   "metadata": {},
   "outputs": [
    {
     "data": {
      "text/html": [
       "<div>\n",
       "<style scoped>\n",
       "    .dataframe tbody tr th:only-of-type {\n",
       "        vertical-align: middle;\n",
       "    }\n",
       "\n",
       "    .dataframe tbody tr th {\n",
       "        vertical-align: top;\n",
       "    }\n",
       "\n",
       "    .dataframe thead th {\n",
       "        text-align: right;\n",
       "    }\n",
       "</style>\n",
       "<table border=\"1\" class=\"dataframe\">\n",
       "  <thead>\n",
       "    <tr style=\"text-align: right;\">\n",
       "      <th></th>\n",
       "      <th>소계</th>\n",
       "      <th>인구수</th>\n",
       "      <th>한국인</th>\n",
       "      <th>외국인</th>\n",
       "      <th>고령자</th>\n",
       "      <th>외국인비율</th>\n",
       "      <th>고령자비율</th>\n",
       "    </tr>\n",
       "    <tr>\n",
       "      <th>구별</th>\n",
       "      <th></th>\n",
       "      <th></th>\n",
       "      <th></th>\n",
       "      <th></th>\n",
       "      <th></th>\n",
       "      <th></th>\n",
       "      <th></th>\n",
       "    </tr>\n",
       "  </thead>\n",
       "  <tbody>\n",
       "    <tr>\n",
       "      <th>도봉구</th>\n",
       "      <td>485</td>\n",
       "      <td>348646.0</td>\n",
       "      <td>346629.0</td>\n",
       "      <td>2017.0</td>\n",
       "      <td>51312.0</td>\n",
       "      <td>0.578524</td>\n",
       "      <td>14.717507</td>\n",
       "    </tr>\n",
       "    <tr>\n",
       "      <th>마포구</th>\n",
       "      <td>574</td>\n",
       "      <td>389649.0</td>\n",
       "      <td>378566.0</td>\n",
       "      <td>11083.0</td>\n",
       "      <td>48765.0</td>\n",
       "      <td>2.844355</td>\n",
       "      <td>12.515110</td>\n",
       "    </tr>\n",
       "    <tr>\n",
       "      <th>송파구</th>\n",
       "      <td>618</td>\n",
       "      <td>667483.0</td>\n",
       "      <td>660584.0</td>\n",
       "      <td>6899.0</td>\n",
       "      <td>72506.0</td>\n",
       "      <td>1.033584</td>\n",
       "      <td>10.862599</td>\n",
       "    </tr>\n",
       "    <tr>\n",
       "      <th>중랑구</th>\n",
       "      <td>660</td>\n",
       "      <td>414503.0</td>\n",
       "      <td>409882.0</td>\n",
       "      <td>4621.0</td>\n",
       "      <td>56774.0</td>\n",
       "      <td>1.114829</td>\n",
       "      <td>13.696885</td>\n",
       "    </tr>\n",
       "    <tr>\n",
       "      <th>중구</th>\n",
       "      <td>671</td>\n",
       "      <td>133240.0</td>\n",
       "      <td>124312.0</td>\n",
       "      <td>8928.0</td>\n",
       "      <td>20764.0</td>\n",
       "      <td>6.700690</td>\n",
       "      <td>15.583909</td>\n",
       "    </tr>\n",
       "  </tbody>\n",
       "</table>\n",
       "</div>"
      ],
      "text/plain": [
       "      소계       인구수       한국인      외국인      고령자     외국인비율      고령자비율\n",
       "구별                                                                 \n",
       "도봉구  485  348646.0  346629.0   2017.0  51312.0  0.578524  14.717507\n",
       "마포구  574  389649.0  378566.0  11083.0  48765.0  2.844355  12.515110\n",
       "송파구  618  667483.0  660584.0   6899.0  72506.0  1.033584  10.862599\n",
       "중랑구  660  414503.0  409882.0   4621.0  56774.0  1.114829  13.696885\n",
       "중구   671  133240.0  124312.0   8928.0  20764.0  6.700690  15.583909"
      ]
     },
     "execution_count": 87,
     "metadata": {},
     "output_type": "execute_result"
    }
   ],
   "source": [
    "data_result = pd.merge(CCTV_Seoul, pop_Seoul, on = '구별')\n",
    "data_result.head()\n",
    "del data_result['2013년도 이전']\n",
    "del data_result['2014년']\n",
    "del data_result['2015년']\n",
    "del data_result['2016년']\n",
    "data_result.head()\n",
    "data_result.set_index('구별', inplace = True)\n",
    "data_result.sort_values(by = '소계').head()"
   ]
  },
  {
   "cell_type": "code",
   "execution_count": 61,
   "metadata": {},
   "outputs": [
    {
     "data": {
      "text/plain": [
       "array([[ 1.        , -0.28078554],\n",
       "       [-0.28078554,  1.        ]])"
      ]
     },
     "execution_count": 61,
     "metadata": {},
     "output_type": "execute_result"
    }
   ],
   "source": [
    "np.corrcoef(data_result['고령자비율'], data_result['소계'])"
   ]
  },
  {
   "cell_type": "code",
   "execution_count": 62,
   "metadata": {},
   "outputs": [
    {
     "data": {
      "text/plain": [
       "array([[ 1.        , -0.13607433],\n",
       "       [-0.13607433,  1.        ]])"
      ]
     },
     "execution_count": 62,
     "metadata": {},
     "output_type": "execute_result"
    }
   ],
   "source": [
    "np.corrcoef(data_result['외국인비율'], data_result['소계'])"
   ]
  },
  {
   "cell_type": "code",
   "execution_count": 63,
   "metadata": {},
   "outputs": [
    {
     "data": {
      "text/plain": [
       "array([[1.        , 0.30634228],\n",
       "       [0.30634228, 1.        ]])"
      ]
     },
     "execution_count": 63,
     "metadata": {},
     "output_type": "execute_result"
    }
   ],
   "source": [
    "np.corrcoef(data_result['인구수'], data_result['소계'])"
   ]
  },
  {
   "cell_type": "code",
   "execution_count": 70,
   "metadata": {},
   "outputs": [
    {
     "data": {
      "image/png": "[encoded data removed]",
      "text/plain": [
       "<Figure size 720x432 with 1 Axes>"
      ]
     },
     "metadata": {
      "needs_background": "light"
     },
     "output_type": "display_data"
    }
   ],
   "source": [
    "t = np.arange(0, 12, 0.01)\n",
    "plt.figure(figsize = (10, 6))\n",
    "plt.plot(t, np.sin(t), label = 'sin')\n",
    "plt.plot(t, np.cos(t), label = 'cos')\n",
    "plt.legend()\n",
    "plt.grid()\n",
    "plt.xlabel('time')\n",
    "plt.ylabel('Amplitude')\n",
    "plt.title('Example of sinewave')\n",
    "plt.show()"
   ]
  },
  {
   "cell_type": "code",
   "execution_count": 72,
   "metadata": {},
   "outputs": [
    {
     "data": {
      "image/png": "[encoded data removed]",
      "text/plain": [
       "<Figure size 432x288 with 1 Axes>"
      ]
     },
     "metadata": {
      "needs_background": "light"
     },
     "output_type": "display_data"
    },
    {
     "data": {
      "text/plain": [
       "(0.5, 9.5)"
      ]
     },
     "execution_count": 72,
     "metadata": {},
     "output_type": "execute_result"
    },
    {
     "data": {
      "image/png": "[encoded data removed]",
      "text/plain": [
       "<Figure size 432x288 with 1 Axes>"
      ]
     },
     "metadata": {
      "needs_background": "light"
     },
     "output_type": "display_data"
    }
   ],
   "source": [
    "plt.plot(t, np.sin(t), lw=3, label = 'sin') #lw : 선의 굵기 지정\n",
    "plt.plot(t, np.cos(t), 'r', label = 'cos')\n",
    "plt.grid()\n",
    "plt.legend()\n",
    "plt.xlabel('time')\n",
    "plt.ylabel('Amplitude')\n",
    "plt.title('Example of sinewave')\n",
    "plt.show()\n",
    "#plt.plot(t, y, color = 'green', 'linestyle = 'dashed', marker = 'o')\n",
    "#markerfacecolor : 마커의 색깔, markersize : 마커 사이즈, marker : 마커 ('>', 'o')\n",
    "plt.xlim([-0.5, 6.5])\n",
    "plt.ylim([0.5, 9.5])"
   ]
  },
  {
   "cell_type": "code",
   "execution_count": 80,
   "metadata": {},
   "outputs": [
    {
     "data": {
      "image/png": "[encoded data removed]",
      "text/plain": [
       "<Figure size 720x432 with 2 Axes>"
      ]
     },
     "metadata": {
      "needs_background": "light"
     },
     "output_type": "display_data"
    }
   ],
   "source": [
    "colormap = t\n",
    "plt.figure(figsize = (10, 6))\n",
    "#plt.scatter(t, y, s = 50, c = colormap, marker = '>')\n",
    "plt.scatter(t, y, s = 50, c = t, marker = '>')\n",
    "plt.plasma()\n",
    "plt.colorbar()\n",
    "plt.show()"
   ]
  },
  {
   "cell_type": "code",
   "execution_count": 81,
   "metadata": {},
   "outputs": [
    {
     "data": {
      "text/plain": [
       "array([-2.28060946e-01, -6.08307045e-02, -7.27355451e-01,  7.05989159e-01,\n",
       "       -2.07160954e-01, -4.60203605e-02,  1.82388009e+00, -1.53388052e+00,\n",
       "       -9.04032839e-01, -3.23768867e-01,  1.22102036e+00, -1.15666158e+00,\n",
       "        1.52582487e+00,  3.33460933e-01, -5.70875147e-01, -4.46014149e-01,\n",
       "       -4.42653924e-04, -3.14923261e-01,  1.30268967e+00,  9.17921694e-01,\n",
       "       -1.37827260e+00, -9.91248483e-01,  8.46687438e-01,  5.29492294e-01,\n",
       "       -1.17080135e+00, -5.18099647e-01,  8.18783045e-02,  1.89082156e+00,\n",
       "        2.79513586e-01, -5.02835371e-01,  2.65853412e-01, -1.76920015e+00,\n",
       "       -9.64095129e-02, -1.39681829e+00, -1.08798536e-03,  1.16456151e+00,\n",
       "       -6.12829244e-01,  8.71995039e-01, -6.71047664e-01, -3.97385253e-01,\n",
       "       -8.97915948e-01,  5.92716180e-01,  2.06613555e+00,  2.66959161e-01,\n",
       "        3.14533707e-01, -5.24460154e-01, -3.55681769e-01, -2.52884017e-01,\n",
       "       -1.21330077e+00,  2.14990682e-01,  7.13810957e-01, -7.15763804e-01,\n",
       "       -1.94050043e+00,  5.25492954e-01, -8.92719252e-01,  1.90836320e+00,\n",
       "        1.33378854e+00,  5.21732398e-01,  7.52250902e-01,  5.79873842e-01,\n",
       "        1.14011671e+00, -1.82598205e-01, -2.66711946e-01, -1.10649203e+00,\n",
       "        2.58404429e-01, -6.51567394e-02, -2.36864637e-01, -5.72694292e-01,\n",
       "       -2.20871824e+00,  1.81633692e+00, -8.91360201e-01, -4.06468473e-01,\n",
       "       -3.24594383e-01, -1.05007278e+00,  4.86965280e-01,  8.39625645e-01,\n",
       "        1.48096685e+00,  4.24333389e-01, -1.20681881e+00, -7.00643529e-02,\n",
       "        1.12135674e+00,  1.09518916e+00, -3.02454465e+00, -1.56624338e+00,\n",
       "       -2.12160058e-01,  9.14606518e-01,  1.38278396e-01,  2.72957414e-01,\n",
       "        7.71113117e-01,  3.49618364e-01,  1.18813363e+00,  8.88470834e-02,\n",
       "       -2.12736934e+00,  3.83231765e-01,  2.31385619e-02,  1.80269123e+00,\n",
       "       -7.73736809e-01, -1.13231715e+00,  1.17742463e+00,  4.62847418e-01,\n",
       "        1.30834521e+00,  5.62125549e-01,  3.32047897e-01, -5.59177464e-01,\n",
       "        1.16887616e-01, -7.66648971e-02,  1.24103263e+00, -1.43059862e+00,\n",
       "       -3.12689309e-01,  1.04963344e-02, -2.03314511e-01, -3.59009586e-02,\n",
       "       -9.16843152e-02, -5.68164357e-01, -4.37990243e-01, -3.20186303e-01,\n",
       "        1.18533477e+00,  1.79525194e+00,  1.15911006e+00, -4.17285734e-03,\n",
       "        1.43985862e+00, -1.47580206e+00, -1.07550175e+00, -1.28699353e+00,\n",
       "       -7.44705673e-01,  2.49021765e+00, -1.60773345e+00,  2.08134585e+00,\n",
       "       -1.88845436e-02, -1.82140155e+00, -3.85953558e-01, -5.28564549e-01,\n",
       "        2.96642098e-01,  2.30567304e+00,  6.01787927e-01, -1.57060329e+00,\n",
       "        2.23857647e+00, -1.38379463e+00,  6.93257583e-01,  9.93224508e-01,\n",
       "       -1.74788968e-01, -1.36932305e-01, -1.14778942e+00, -3.36944089e-02,\n",
       "        5.95946692e-01,  7.27865105e-01,  3.61762423e-01,  2.73019996e+00,\n",
       "       -1.44982076e-01,  5.17383651e-02, -2.79191026e-02, -2.00558787e+00,\n",
       "        9.47780499e-01,  4.94792088e-01,  1.70728498e+00, -4.05770141e-01,\n",
       "        1.33505611e+00,  5.47251191e-01, -1.58318098e+00,  3.53694598e-01,\n",
       "       -1.75695824e+00, -1.87892144e+00, -5.06759711e-02, -8.70772120e-01,\n",
       "       -1.86614275e-02, -1.85576569e-01, -1.23013133e-01,  3.16124389e-02,\n",
       "        4.59743824e-01, -6.63983816e-01,  5.43621731e-01, -1.67820073e+00,\n",
       "       -3.50512584e-01,  5.63690386e-02, -1.19885372e+00, -2.34965917e-01,\n",
       "        7.27818592e-01, -1.32142184e+00, -1.25566056e+00, -4.12609665e-01,\n",
       "        7.52990832e-01,  9.56334107e-01, -6.75716065e-01, -1.02345474e+00,\n",
       "        9.96823210e-01, -1.55939817e+00,  6.06086788e-02, -4.11701378e-01,\n",
       "       -6.25573796e-01,  1.93886155e+00,  3.30566294e-01,  1.12688234e+00,\n",
       "       -5.47262479e-01,  1.12686501e+00,  2.28034304e-01, -2.42148604e-01,\n",
       "        6.55366754e-01, -1.47568374e+00, -1.01595195e+00,  1.05935861e+00,\n",
       "        5.35166170e-01, -1.83801224e-01, -1.10588972e+00, -1.53172817e+00,\n",
       "       -1.02484707e+00, -2.18408882e-01,  5.58603442e-01, -9.01101894e-01,\n",
       "        8.88106627e-01,  1.64778271e+00, -3.12931895e-01,  4.87056442e-01,\n",
       "       -5.33857322e-02,  1.44929389e+00, -6.25306704e-01, -8.63656717e-02,\n",
       "       -2.92367556e-01, -9.10362375e-01,  9.08509320e-01, -3.14267064e-02,\n",
       "        1.59946769e+00,  2.13321659e-01, -2.34073729e-01,  1.74246726e+00,\n",
       "       -4.59929172e-02, -1.01304234e-01,  1.02768218e+00,  3.70123648e-01,\n",
       "       -2.99446785e-01, -6.33037326e-01, -8.64752191e-01,  4.69317553e-01,\n",
       "        1.00297960e+00, -3.29909851e-01, -1.48828275e-01,  1.36420472e+00,\n",
       "       -1.12614540e-01,  2.66164135e-01,  4.26749767e-01,  8.66015806e-01,\n",
       "       -1.55272679e-01, -3.09226244e+00,  2.34545477e-01,  3.49736474e-02,\n",
       "       -1.24266249e-01, -6.44085293e-01,  1.90212317e-02,  8.04448124e-01,\n",
       "       -1.18542942e+00,  4.90107126e-01,  1.22990262e+00,  5.69144833e-01,\n",
       "       -2.96462014e-02, -1.42683639e+00,  7.52541577e-01,  9.08347930e-01,\n",
       "       -1.09290511e+00, -1.02719394e+00,  1.17232394e-01,  1.41672317e+00,\n",
       "        5.50812441e-01,  8.43779094e-01, -1.70140289e+00,  4.76604647e-01,\n",
       "        8.45625672e-01,  6.24017960e-01,  1.93579019e+00, -2.23816121e+00,\n",
       "        3.28910954e-01, -2.00303916e+00,  1.51014553e+00, -4.56577450e-01,\n",
       "        1.40895746e+00,  1.43174371e-01, -6.58792821e-01, -9.74657834e-01,\n",
       "        8.10709053e-01,  2.05849588e-01, -8.15369830e-01, -2.14528957e+00,\n",
       "        1.29924194e-01, -2.32506807e-01, -5.68419653e-01, -1.20164734e-02,\n",
       "       -1.01409780e+00,  4.43414887e-01,  9.97559696e-01,  1.22115485e+00,\n",
       "       -1.19466139e-01, -5.06192484e-01,  1.92832740e+00, -6.09179195e-01,\n",
       "        1.72460867e+00, -8.85287846e-01,  2.78627167e-01,  9.31024147e-01,\n",
       "       -8.60823844e-01, -8.49686402e-01, -4.28813396e-01,  1.30615478e+00,\n",
       "       -1.68673344e-01,  4.17457186e-02,  1.72090247e+00,  4.77752927e-01,\n",
       "        1.59313516e+00,  1.82957772e-01, -8.00682021e-01,  3.38072803e-01,\n",
       "       -1.07822774e+00, -1.94177630e+00,  5.18579799e-02,  1.11829897e+00,\n",
       "        1.69126552e+00,  2.13222122e-01, -3.20382532e-01,  1.39870272e+00,\n",
       "       -1.53348082e+00,  8.84197108e-01, -1.04844037e+00,  5.34936592e-01,\n",
       "       -5.04403233e-01, -2.21908702e+00, -2.95423444e+00,  1.44391492e+00,\n",
       "        1.60013392e+00,  1.93961112e+00, -1.15689095e+00,  4.60472585e-01,\n",
       "        1.41613070e-01, -9.08454174e-02,  2.32051279e-02,  1.47730675e+00,\n",
       "        2.23030648e-01,  8.46434908e-01, -4.52268380e-01,  2.77414663e-02,\n",
       "        3.84581638e-01, -5.48043294e-01,  3.33727824e-01,  1.99127982e-01,\n",
       "       -6.48831091e-02, -1.12951948e+00, -7.11243717e-01, -4.03288140e-01,\n",
       "        8.70806659e-01, -6.16980886e-02,  8.89250955e-01, -9.50865317e-01,\n",
       "        2.06827714e+00,  1.52607629e+00,  1.13339449e+00, -3.23031403e-01,\n",
       "       -1.89958752e+00,  9.14817090e-02, -7.31910551e-01,  4.32818137e-01,\n",
       "       -4.08439681e-01, -4.62407380e-01, -2.12304957e-01, -1.56572016e+00,\n",
       "        6.72422635e-01,  9.61821357e-02,  2.15356210e+00, -3.18622948e-01,\n",
       "       -4.42719891e-01,  3.19391575e-01,  3.29821335e-01, -5.45671380e-01,\n",
       "        1.46045986e-01,  4.80265163e-01,  1.00863814e+00, -8.14168270e-01,\n",
       "        3.68785725e-01,  4.34948772e-01,  4.61933502e-01,  9.71363810e-01,\n",
       "       -5.68119471e-01, -2.15396608e-01, -6.80268446e-01,  9.85692436e-01,\n",
       "        2.94046642e-02,  1.00070186e+00,  1.28944163e-01, -3.11248819e-01,\n",
       "       -1.76702177e+00, -7.47265716e-01,  9.71607500e-01,  6.74805343e-02,\n",
       "       -2.05523209e-01, -9.78438635e-01, -2.47722545e+00,  1.92528668e+00,\n",
       "       -9.12177834e-01, -2.27949651e-02,  3.28110754e-01, -1.48335382e+00,\n",
       "       -4.63099436e-01,  7.16524921e-03,  7.90784177e-01,  3.69202454e-01,\n",
       "       -1.89447235e+00, -2.37214627e-01, -9.50791164e-02, -7.37264262e-01,\n",
       "       -1.11907853e+00, -8.20993253e-01, -6.96518478e-01,  1.37823123e-01,\n",
       "        6.75842057e-01,  2.05570464e+00,  6.61852752e-01,  1.25642561e+00,\n",
       "       -5.93669450e-01,  3.71899236e-01,  1.40576423e+00, -6.38253663e-01,\n",
       "        1.03079103e+00,  1.68729931e+00,  2.83817935e-01, -1.04277788e+00,\n",
       "        1.81324689e+00,  8.38062134e-01,  8.66390591e-01,  1.28536287e+00,\n",
       "       -6.94865112e-01,  1.64374235e+00, -1.09524485e+00,  6.69954052e-02,\n",
       "       -6.24713828e-01,  3.25544685e-01, -2.58957938e-02, -1.77296892e-01,\n",
       "        8.79980865e-01, -1.47484797e-01, -1.30390724e-01, -7.41428819e-01,\n",
       "        4.00917792e-01,  6.42289861e-01, -3.48729070e-01, -9.17301867e-01,\n",
       "       -1.29914773e+00,  1.98617895e+00, -2.98178068e-01,  2.20219927e-01,\n",
       "        1.27075252e-01, -1.15870323e-01,  8.78718796e-01, -3.20732473e-01,\n",
       "        1.76782859e+00,  1.38564652e-01,  4.03963462e-01,  9.68541969e-01,\n",
       "       -1.19853362e+00, -6.14674885e-01,  8.69375373e-01,  1.96876932e+00,\n",
       "       -3.24286142e+00,  3.98902720e-01,  9.20519162e-01,  9.24500571e-02,\n",
       "       -6.73502051e-01,  1.40924736e+00,  3.79167441e-01,  1.37206707e+00,\n",
       "        1.37756407e+00, -7.79229083e-01,  2.71448874e+00,  4.33454246e-01,\n",
       "        3.25351375e-01, -1.65468464e-01, -2.16977961e-02, -1.04512937e-01,\n",
       "        1.81858230e+00, -1.11394962e+00, -2.38025032e-01,  3.89782419e-01,\n",
       "       -3.24742913e-01, -1.00440352e+00, -1.20203841e+00,  1.78909205e-01,\n",
       "       -1.27638094e+00, -1.22812063e-01, -3.93113101e-01, -1.05370696e+00,\n",
       "       -4.04273818e-01, -1.25074403e+00, -1.37768514e+00, -1.85270919e+00,\n",
       "       -1.40636311e-01, -1.34980393e+00, -9.84467459e-01,  8.93482121e-01,\n",
       "       -8.66896750e-01, -9.70316857e-01, -1.01981390e+00,  3.96969251e-01,\n",
       "        2.78874079e-01, -9.12323747e-01,  1.79079285e-01, -2.85461007e-01,\n",
       "       -6.81207770e-01, -9.44856844e-01,  5.44382130e-01,  8.77122111e-01,\n",
       "       -1.72740736e+00, -3.89984166e-01,  5.26143079e-01, -1.01110573e+00,\n",
       "       -8.58839468e-02,  1.49404836e+00,  1.35959572e+00,  1.12970009e+00,\n",
       "        1.63188318e+00,  1.86523698e-01, -1.48303972e+00, -3.53042441e-01,\n",
       "        1.36591783e+00, -3.47197915e-01,  5.99199753e-01, -8.48464600e-01,\n",
       "        6.45888032e-01, -3.76602055e-01, -5.36408963e-01,  1.71979365e+00,\n",
       "        1.23645061e+00, -8.24948889e-01,  2.08485901e-02,  6.46431341e-01,\n",
       "       -5.11817316e-01,  9.65844005e-01,  8.53438828e-01,  2.74621377e-01,\n",
       "       -6.72637716e-01, -3.15648168e-01, -7.11385254e-01,  1.13088114e+00,\n",
       "       -4.96784649e-01,  3.68130249e-01,  1.47748896e+00,  2.35947710e-01,\n",
       "        1.13308601e+00,  7.68232632e-01, -5.75563096e-01,  8.87206557e-01,\n",
       "        1.60334392e+00,  9.34542402e-01,  4.49982049e-01,  1.48939499e+00,\n",
       "        8.40581502e-01, -6.07769141e-01, -1.13393854e+00,  1.37474316e+00,\n",
       "       -1.13420154e+00, -9.28864817e-01, -6.39954347e-01,  5.58220471e-01,\n",
       "       -1.54590340e-02,  6.57236979e-01, -1.53770998e+00,  2.50556969e-01,\n",
       "       -1.16959217e+00,  1.96457880e-01,  1.06451182e+00, -2.18017971e-01,\n",
       "        1.30506946e+00, -3.36466018e-01,  1.11040834e+00,  7.01022601e-01,\n",
       "        1.40025069e+00,  4.10354319e-01, -3.68712071e-01,  2.01946978e+00,\n",
       "        1.17343503e-01,  1.21447525e+00, -5.38561865e-01,  9.84622270e-01,\n",
       "        1.13477417e+00, -6.14644214e-01, -2.95498031e-01,  7.94210842e-01,\n",
       "        1.54770391e+00, -1.80503174e+00,  2.03611650e-01, -1.64966775e+00,\n",
       "       -4.38962071e-01,  6.89756117e-01, -1.35828653e+00,  4.22061681e-01,\n",
       "       -9.02339729e-01, -1.68482753e-01, -1.15340309e+00,  6.92477396e-01,\n",
       "        1.33161204e-01,  8.10441511e-01, -1.05777238e-01,  5.63576224e-01,\n",
       "        7.40499086e-01, -8.56413881e-01,  1.15796992e+00,  1.44464489e+00,\n",
       "       -8.57681313e-01, -6.91436513e-01, -5.07920131e-01, -8.60034844e-01,\n",
       "        5.07757776e-01, -2.12687837e+00,  1.80877890e+00,  1.86437008e+00,\n",
       "       -2.93952756e-01, -1.31592329e+00, -1.07655727e+00,  7.13641213e-01,\n",
       "       -1.43255865e+00,  1.29467405e+00,  1.20451450e-01,  1.41678115e+00,\n",
       "       -8.62395350e-01, -5.58590425e-01,  4.91387285e-01, -9.72499944e-02,\n",
       "        3.46104556e-01, -1.61559945e+00, -8.58794074e-01, -3.60465650e-02,\n",
       "        5.56205834e-01, -1.93194374e+00, -1.99305775e-01,  1.35235034e-01,\n",
       "        1.34724863e+00, -2.08146279e-01, -2.95001743e-01,  1.38362999e-01,\n",
       "       -2.76272787e-01, -5.73267831e-01,  2.60784983e-01,  1.26957239e+00,\n",
       "        2.98367593e-02, -1.01347768e+00, -3.45899323e-01, -9.84059376e-01,\n",
       "        1.02214585e+00,  1.90528024e+00,  9.57718457e-01,  3.18864049e-01,\n",
       "        8.40027861e-01,  4.11623528e-01,  6.81145411e-01,  5.60344979e-01,\n",
       "        2.04068396e-01, -2.19194865e+00,  5.95583749e-01, -4.89015852e-01,\n",
       "        2.79906756e-01,  7.44812780e-01,  8.39267872e-01,  4.54920406e-01,\n",
       "       -5.65637982e-02, -2.43853625e-01, -1.04161884e-01,  8.83262206e-01,\n",
       "        1.55185517e+00, -9.68745822e-02,  5.62089382e-01,  1.12249739e-01,\n",
       "        7.22650616e-01, -1.11361677e-02,  4.33242849e-01,  3.69264409e-01,\n",
       "        1.90471333e-01, -1.14530776e+00,  5.48059749e-01, -4.59483550e-01,\n",
       "        5.59254075e-01, -2.82246595e-01,  1.58647598e+00,  3.75668402e-01,\n",
       "       -1.30429751e+00,  1.39159569e+00, -6.17400528e-01,  1.05227825e+00,\n",
       "        1.97431653e+00, -1.61385200e+00, -5.00611287e-01, -2.22872959e+00,\n",
       "       -9.41204806e-01, -2.87002689e-01,  7.84286047e-01,  1.73661126e+00,\n",
       "       -7.27833968e-01,  1.66229637e+00,  5.41254640e-02, -1.40246737e+00,\n",
       "        3.47056681e-01, -7.86580404e-01, -2.12180574e-01, -3.44555635e-01,\n",
       "       -1.02884710e-01, -8.55611932e-01,  1.09264477e+00,  3.95624130e-02,\n",
       "       -7.06065611e-01,  7.53188683e-01, -1.33185190e+00,  6.45839718e-01,\n",
       "       -8.44835928e-01, -2.28188766e-01,  1.83130359e+00, -9.91353650e-01,\n",
       "        8.29756383e-02,  1.12943636e+00, -4.53991337e-01,  1.15144616e-01,\n",
       "        1.19666293e-01,  4.26832750e-01,  4.68519969e-01, -7.36564633e-01,\n",
       "       -2.16620555e-01, -8.05894862e-01, -1.32577340e+00, -1.01006711e+00,\n",
       "        1.82371531e-01, -1.76052984e+00,  9.70214448e-01, -7.37180759e-01,\n",
       "        1.11077735e-01, -2.04415378e-01, -1.59975968e-01,  4.52818490e-01,\n",
       "       -4.33889168e-01,  8.09865998e-01, -1.37270063e-01, -6.16903019e-01,\n",
       "        1.13168784e+00,  7.24068622e-02,  2.10150158e-01, -1.48873597e-01,\n",
       "       -2.28568043e+00, -2.89395950e-01,  4.44177370e-01,  3.48855479e-01,\n",
       "       -6.61029173e-01,  1.23307685e+00,  2.78918957e-01,  1.02156386e+00,\n",
       "        2.00067572e-01,  1.85090863e+00,  4.59448500e-01,  6.13812628e-01,\n",
       "        9.84320636e-02,  3.78954430e-01,  1.18625797e+00,  2.21998719e-01,\n",
       "       -3.03445712e-01, -1.29580145e-01, -6.99309762e-01, -4.71278874e-01,\n",
       "        5.96986586e-01,  4.64313108e-01,  6.95967066e-01,  8.59783223e-01,\n",
       "       -3.98987967e-01,  2.31368945e-02, -1.52972446e+00,  7.68239594e-01,\n",
       "       -3.30174054e-01,  1.14355232e-01,  5.89478515e-01, -6.84198690e-01,\n",
       "       -8.33829765e-01,  2.43802670e-01, -1.33239806e+00,  1.37368360e-01,\n",
       "       -5.93952013e-02, -1.18835905e+00,  4.58188712e-03,  6.61793908e-01,\n",
       "       -1.88265259e+00, -7.91112984e-02, -1.61247299e+00, -4.82718436e-02,\n",
       "        7.51013083e-01, -2.47138396e-01,  3.64367537e-02, -1.62246842e+00,\n",
       "       -5.48157748e-01,  3.11513386e-01,  1.31727503e+00,  7.80166057e-01,\n",
       "        4.53234590e-01, -1.25774594e+00,  1.12240313e+00,  5.07855649e-01,\n",
       "        1.23452124e+00, -5.14060184e-01,  8.52177973e-01, -1.88926710e+00,\n",
       "       -7.19250197e-02,  7.35054354e-01, -1.33449561e+00, -6.24626651e-01,\n",
       "       -1.32893992e+00, -1.69039709e-01, -2.85716415e+00, -5.69292869e-01,\n",
       "       -1.32071319e+00,  1.59478829e+00, -5.16179138e-01, -2.15744800e+00,\n",
       "       -7.01091867e-01, -1.33441223e+00, -8.31032807e-01,  1.69768735e+00,\n",
       "        1.43832449e+00, -8.17128227e-01, -1.44819234e-01, -1.39644015e+00,\n",
       "        5.44302368e-01, -3.52953370e-01,  5.59919644e-01, -1.52928622e-01,\n",
       "       -7.92686011e-01, -1.38246889e+00,  3.57448535e-01,  1.75665031e+00,\n",
       "       -1.01057574e+00,  5.74309200e-02,  1.39856462e-01, -1.12253571e+00,\n",
       "        4.82972954e-01, -1.90790447e-01, -1.65396147e+00, -5.34294098e-01,\n",
       "       -1.62949231e+00,  1.18237813e+00, -4.21242160e-01, -3.31882388e-01,\n",
       "        7.57784670e-01, -2.43329391e-01,  1.90550637e+00, -2.51935868e-01,\n",
       "       -9.45623045e-01,  5.94105691e-01,  6.35967302e-02, -1.14994482e+00,\n",
       "       -6.22517849e-02,  3.01685372e-01, -3.71487777e-01, -7.11450169e-01,\n",
       "       -2.26282119e+00, -6.76003082e-01, -2.03770283e+00,  5.05825415e-01,\n",
       "        4.48244304e-01, -2.20302229e-01, -5.40579600e-01, -1.91631440e+00,\n",
       "       -1.65572659e+00,  1.27794272e+00, -4.78606903e-01, -4.53893152e-01,\n",
       "       -8.04911350e-01,  7.36234506e-01,  1.32532578e+00,  1.23200411e+00,\n",
       "        1.64870515e+00, -5.10368083e-01, -1.01441034e-02, -3.79069186e-01,\n",
       "        7.81644513e-01,  3.94425490e-01, -3.31582766e-01, -8.34543372e-01,\n",
       "       -2.06476297e-02,  1.21279903e+00, -9.18173126e-01,  9.67029567e-01,\n",
       "       -4.19799245e-01,  1.25440449e-01,  7.64050188e-01, -1.13618841e+00,\n",
       "        1.21585419e-01,  6.44532479e-01,  2.01758722e+00, -1.01164928e+00,\n",
       "       -3.32402621e-01, -4.75555385e-01, -8.66076788e-01, -3.17653272e+00,\n",
       "        7.91943645e-01, -1.89845584e+00, -5.30460464e-01,  1.56275586e+00,\n",
       "       -1.43241457e+00,  6.20693569e-02,  5.80411001e-01,  2.05198240e-01,\n",
       "        1.09579602e+00, -2.04395278e-01, -1.28148674e+00, -3.13029438e-01,\n",
       "        2.63097337e-01,  1.60610010e+00, -7.22536426e-01, -3.07575701e-01,\n",
       "        8.26977234e-01,  1.91672852e+00,  2.96323356e-01, -1.65818939e-01,\n",
       "        4.81963324e-01,  8.99903528e-01, -9.04837023e-01, -1.87501458e-01,\n",
       "       -4.63288431e-01,  2.08496953e+00, -7.85252190e-01, -4.12608282e-01,\n",
       "        2.63819636e+00,  6.86461560e-01, -4.78705057e-01, -1.73386395e+00,\n",
       "        7.92938200e-01, -1.16371223e+00, -1.68581726e+00,  4.19631640e-01,\n",
       "       -1.01095547e+00,  4.48992364e-01,  1.05861742e+00, -1.32128420e+00,\n",
       "       -1.51130849e+00, -7.56545897e-01,  9.13754595e-01,  1.16676143e+00,\n",
       "        1.05946110e+00,  6.95506296e-01, -2.90842012e-01, -7.05819199e-01,\n",
       "       -7.65065353e-01,  6.06508790e-01,  2.72336563e+00,  4.45090559e-03,\n",
       "       -1.52764647e-01, -4.46929668e-01,  1.68228459e+00,  4.34863661e-01,\n",
       "        2.65027306e-01, -5.84620704e-01, -1.37895782e+00, -4.86048646e-01,\n",
       "       -8.64623614e-01,  2.68009620e-01, -6.30667712e-01, -8.59050291e-03,\n",
       "        1.21835003e+00,  2.14341475e+00, -1.79791919e+00,  1.32160990e+00,\n",
       "        1.59408234e+00,  1.18179480e+00, -4.86605303e-01, -1.51471321e-02,\n",
       "        1.27055662e+00, -5.31724488e-01,  1.22972322e+00,  2.35590470e-01,\n",
       "       -1.54081014e+00, -4.44174580e-02, -1.25587967e+00, -6.85863112e-01,\n",
       "        7.11857542e-04,  6.07864248e-01, -1.95823993e+00, -1.02434346e+00,\n",
       "       -1.14573876e+00, -1.39462513e-01,  7.68381582e-01, -2.31220227e+00,\n",
       "       -1.59820279e+00,  1.02690648e+00, -4.99282499e-01,  3.12433924e-01,\n",
       "        6.36942316e-01,  7.00677558e-01,  5.33662978e-01,  5.79729582e-01,\n",
       "       -7.10140726e-01,  8.03161916e-01,  2.59795976e-01,  3.66530046e-01,\n",
       "        6.93422650e-01, -2.62262779e-01, -1.65306921e+00,  7.62581436e-02,\n",
       "        1.21281516e+00,  1.08747541e+00,  2.29199596e-01, -9.11703899e-02,\n",
       "       -1.64154183e+00,  1.46537593e+00, -2.16142575e+00, -1.24512292e-01])"
      ]
     },
     "execution_count": 81,
     "metadata": {},
     "output_type": "execute_result"
    }
   ],
   "source": [
    "s1 = np.random.normal(loc = 0, scale = 1, size = 1000)\n",
    "s1"
   ]
  },
  {
   "cell_type": "code",
   "execution_count": 93,
   "metadata": {},
   "outputs": [
    {
     "data": {
      "image/png": "[encoded data removed]",
      "text/plain": [
       "<Figure size 720x720 with 1 Axes>"
      ]
     },
     "metadata": {
      "needs_background": "light"
     },
     "output_type": "display_data"
    },
    {
     "data": {
      "image/png": "[encoded data removed]",
      "text/plain": [
       "<Figure size 432x432 with 1 Axes>"
      ]
     },
     "metadata": {
      "needs_background": "light"
     },
     "output_type": "display_data"
    }
   ],
   "source": [
    "data_result['소계'].sort_values()\n",
    "data_result['소계'].sort_values().plot(kind = 'barh', grid = True, figsize = (10, 10))\n",
    "data_result['CCTV비율'] = data_result['소계'] / data_result['인구수'] * 100\n",
    "data_result['CCTV비율'].sort_values().plot(kind = 'barh', grid = True, figsize = (10, 10))\n",
    "plt.show()\n",
    "plt.figure(figsize = (6, 6))\n",
    "plt.scatter(data_result['인구수'], data_result['소계'], s = 50)\n",
    "plt.xlabel('인구수')\n",
    "plt.ylabel('CCTV')\n",
    "plt.grid()\n",
    "plt.show()"
   ]
  },
  {
   "cell_type": "code",
   "execution_count": 96,
   "metadata": {},
   "outputs": [
    {
     "data": {
      "image/png": "[encoded data removed]",
      "text/plain": [
       "<Figure size 432x288 with 1 Axes>"
      ]
     },
     "metadata": {
      "needs_background": "light"
     },
     "output_type": "display_data"
    }
   ],
   "source": [
    "fp1 = np.polyfit(data_result['인구수'], data_result['소계'], 1)\n",
    "f1 = np.poly1d(fp1)\n",
    "fx = np.linspace(100000, 700000, 100)\n",
    "plt.scatter(data_result['인구수'], data_result['소계'], s = 50)\n",
    "plt.plot(fx, f1(fx), ls = 'dashed', lw = 3, color = 'g')\n",
    "plt.xlabel('인구수')\n",
    "plt.ylabel('CCTV')\n",
    "plt.grid()\n",
    "plt.show()"
   ]
  },
  {
   "cell_type": "code",
   "execution_count": 103,
   "metadata": {},
   "outputs": [
    {
     "data": {
      "text/plain": [
       "581910.0"
      ]
     },
     "execution_count": 103,
     "metadata": {},
     "output_type": "execute_result"
    }
   ],
   "source": [
    "fp1 = np.polyfit(data_result['인구수'], data_result['소계'], 1)\n",
    "f1 = np.poly1d(fp1)\n",
    "fx = np.linspace(100000, 700000, 100)\n",
    "data_result['오차'] = np.abs(data_result['소계'] - f1(data_result['인구수']))\n",
    "df_sort = data_result.sort_values(by = '오차', ascending = False)\n",
    "df_sort.head()"
   ]
  },
  {
   "cell_type": "code",
   "execution_count": null,
   "metadata": {},
   "outputs": [],
   "source": [
    "plt.figure(figsize = (14, 10))\n",
    "plt.scatter(data_result['인구수'], data_result['소계'], \n",
    "           c = data_result['오차'], s = 50)\n",
    "plt.plot(fx, f1(fx), ls = 'dashed', lw = 3, color = 'g')\n",
    "for n in range(10):\n",
    "    plt.text(df_sort['인구수'][n]*1.02, df_sort['소계'][n]*0.98,\n",
    "            df_sort.index[n], fontsize = 15)\n",
    "plt.xlabel('인구수')\n",
    "plt.ylabel('인구당비율')\n",
    "plt.colorbar()\n",
    "plt.grid()\n",
    "plt.show()"
   ]
  }
 ],
 "metadata": {
  "kernelspec": {
   "display_name": "Python 3",
   "language": "python",
   "name": "python3"
  },
  "language_info": {
   "codemirror_mode": {
    "name": "ipython",
    "version": 3
   },
   "file_extension": ".py",
   "mimetype": "text/x-python",
   "name": "python",
   "nbconvert_exporter": "python",
   "pygments_lexer": "ipython3",
   "version": "3.8.5"
  }
 },
 "nbformat": 4,
 "nbformat_minor": 4
}
