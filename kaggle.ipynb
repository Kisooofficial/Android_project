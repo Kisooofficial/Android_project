{
 "cells": [
  {
   "cell_type": "code",
   "execution_count": 1,
   "metadata": {},
   "outputs": [
    {
     "name": "stderr",
     "output_type": "stream",
     "text": [
      "C:\\Users\\revol\\anaconda3\\lib\\site-packages\\IPython\\core\\interactiveshell.py:3146: DtypeWarning: Columns (0) have mixed types.Specify dtype option on import or set low_memory=False.\n",
      "  has_raised = await self.run_ast_nodes(code_ast.body, cell_name,\n"
     ]
    },
    {
     "data": {
      "text/html": [
       "<div>\n",
       "<style scoped>\n",
       "    .dataframe tbody tr th:only-of-type {\n",
       "        vertical-align: middle;\n",
       "    }\n",
       "\n",
       "    .dataframe tbody tr th {\n",
       "        vertical-align: top;\n",
       "    }\n",
       "\n",
       "    .dataframe thead th {\n",
       "        text-align: right;\n",
       "    }\n",
       "</style>\n",
       "<table border=\"1\" class=\"dataframe\">\n",
       "  <thead>\n",
       "    <tr style=\"text-align: right;\">\n",
       "      <th></th>\n",
       "      <th>Time from Start to Finish (seconds)</th>\n",
       "      <th>Q1</th>\n",
       "      <th>Q2</th>\n",
       "      <th>Q3</th>\n",
       "      <th>Q4</th>\n",
       "      <th>Q5</th>\n",
       "      <th>Q6</th>\n",
       "      <th>Q7_Part_1</th>\n",
       "      <th>Q7_Part_2</th>\n",
       "      <th>Q7_Part_3</th>\n",
       "      <th>...</th>\n",
       "      <th>Q35_B_Part_2</th>\n",
       "      <th>Q35_B_Part_3</th>\n",
       "      <th>Q35_B_Part_4</th>\n",
       "      <th>Q35_B_Part_5</th>\n",
       "      <th>Q35_B_Part_6</th>\n",
       "      <th>Q35_B_Part_7</th>\n",
       "      <th>Q35_B_Part_8</th>\n",
       "      <th>Q35_B_Part_9</th>\n",
       "      <th>Q35_B_Part_10</th>\n",
       "      <th>Q35_B_OTHER</th>\n",
       "    </tr>\n",
       "  </thead>\n",
       "  <tbody>\n",
       "    <tr>\n",
       "      <th>0</th>\n",
       "      <td>Duration (in seconds)</td>\n",
       "      <td>What is your age (# years)?</td>\n",
       "      <td>What is your gender? - Selected Choice</td>\n",
       "      <td>In which country do you currently reside?</td>\n",
       "      <td>What is the highest level of formal education ...</td>\n",
       "      <td>Select the title most similar to your current ...</td>\n",
       "      <td>For how many years have you been writing code ...</td>\n",
       "      <td>What programming languages do you use on a reg...</td>\n",
       "      <td>What programming languages do you use on a reg...</td>\n",
       "      <td>What programming languages do you use on a reg...</td>\n",
       "      <td>...</td>\n",
       "      <td>In the next 2 years, do you hope to become mor...</td>\n",
       "      <td>In the next 2 years, do you hope to become mor...</td>\n",
       "      <td>In the next 2 years, do you hope to become mor...</td>\n",
       "      <td>In the next 2 years, do you hope to become mor...</td>\n",
       "      <td>In the next 2 years, do you hope to become mor...</td>\n",
       "      <td>In the next 2 years, do you hope to become mor...</td>\n",
       "      <td>In the next 2 years, do you hope to become mor...</td>\n",
       "      <td>In the next 2 years, do you hope to become mor...</td>\n",
       "      <td>In the next 2 years, do you hope to become mor...</td>\n",
       "      <td>In the next 2 years, do you hope to become mor...</td>\n",
       "    </tr>\n",
       "    <tr>\n",
       "      <th>1</th>\n",
       "      <td>1838</td>\n",
       "      <td>35-39</td>\n",
       "      <td>Man</td>\n",
       "      <td>Colombia</td>\n",
       "      <td>Doctoral degree</td>\n",
       "      <td>Student</td>\n",
       "      <td>5-10 years</td>\n",
       "      <td>Python</td>\n",
       "      <td>R</td>\n",
       "      <td>SQL</td>\n",
       "      <td>...</td>\n",
       "      <td>NaN</td>\n",
       "      <td>NaN</td>\n",
       "      <td>NaN</td>\n",
       "      <td>TensorBoard</td>\n",
       "      <td>NaN</td>\n",
       "      <td>NaN</td>\n",
       "      <td>NaN</td>\n",
       "      <td>NaN</td>\n",
       "      <td>NaN</td>\n",
       "      <td>NaN</td>\n",
       "    </tr>\n",
       "    <tr>\n",
       "      <th>2</th>\n",
       "      <td>289287</td>\n",
       "      <td>30-34</td>\n",
       "      <td>Man</td>\n",
       "      <td>United States of America</td>\n",
       "      <td>Master’s degree</td>\n",
       "      <td>Data Engineer</td>\n",
       "      <td>5-10 years</td>\n",
       "      <td>Python</td>\n",
       "      <td>R</td>\n",
       "      <td>SQL</td>\n",
       "      <td>...</td>\n",
       "      <td>NaN</td>\n",
       "      <td>NaN</td>\n",
       "      <td>NaN</td>\n",
       "      <td>NaN</td>\n",
       "      <td>NaN</td>\n",
       "      <td>NaN</td>\n",
       "      <td>NaN</td>\n",
       "      <td>NaN</td>\n",
       "      <td>NaN</td>\n",
       "      <td>NaN</td>\n",
       "    </tr>\n",
       "    <tr>\n",
       "      <th>3</th>\n",
       "      <td>860</td>\n",
       "      <td>35-39</td>\n",
       "      <td>Man</td>\n",
       "      <td>Argentina</td>\n",
       "      <td>Bachelor’s degree</td>\n",
       "      <td>Software Engineer</td>\n",
       "      <td>10-20 years</td>\n",
       "      <td>NaN</td>\n",
       "      <td>NaN</td>\n",
       "      <td>NaN</td>\n",
       "      <td>...</td>\n",
       "      <td>NaN</td>\n",
       "      <td>NaN</td>\n",
       "      <td>NaN</td>\n",
       "      <td>NaN</td>\n",
       "      <td>NaN</td>\n",
       "      <td>NaN</td>\n",
       "      <td>NaN</td>\n",
       "      <td>NaN</td>\n",
       "      <td>None</td>\n",
       "      <td>NaN</td>\n",
       "    </tr>\n",
       "    <tr>\n",
       "      <th>4</th>\n",
       "      <td>507</td>\n",
       "      <td>30-34</td>\n",
       "      <td>Man</td>\n",
       "      <td>United States of America</td>\n",
       "      <td>Master’s degree</td>\n",
       "      <td>Data Scientist</td>\n",
       "      <td>5-10 years</td>\n",
       "      <td>Python</td>\n",
       "      <td>NaN</td>\n",
       "      <td>SQL</td>\n",
       "      <td>...</td>\n",
       "      <td>NaN</td>\n",
       "      <td>NaN</td>\n",
       "      <td>NaN</td>\n",
       "      <td>NaN</td>\n",
       "      <td>NaN</td>\n",
       "      <td>NaN</td>\n",
       "      <td>NaN</td>\n",
       "      <td>NaN</td>\n",
       "      <td>NaN</td>\n",
       "      <td>NaN</td>\n",
       "    </tr>\n",
       "    <tr>\n",
       "      <th>...</th>\n",
       "      <td>...</td>\n",
       "      <td>...</td>\n",
       "      <td>...</td>\n",
       "      <td>...</td>\n",
       "      <td>...</td>\n",
       "      <td>...</td>\n",
       "      <td>...</td>\n",
       "      <td>...</td>\n",
       "      <td>...</td>\n",
       "      <td>...</td>\n",
       "      <td>...</td>\n",
       "      <td>...</td>\n",
       "      <td>...</td>\n",
       "      <td>...</td>\n",
       "      <td>...</td>\n",
       "      <td>...</td>\n",
       "      <td>...</td>\n",
       "      <td>...</td>\n",
       "      <td>...</td>\n",
       "      <td>...</td>\n",
       "      <td>...</td>\n",
       "    </tr>\n",
       "    <tr>\n",
       "      <th>20032</th>\n",
       "      <td>126</td>\n",
       "      <td>18-21</td>\n",
       "      <td>Man</td>\n",
       "      <td>Turkey</td>\n",
       "      <td>Some college/university study without earning ...</td>\n",
       "      <td>NaN</td>\n",
       "      <td>NaN</td>\n",
       "      <td>NaN</td>\n",
       "      <td>NaN</td>\n",
       "      <td>NaN</td>\n",
       "      <td>...</td>\n",
       "      <td>NaN</td>\n",
       "      <td>NaN</td>\n",
       "      <td>NaN</td>\n",
       "      <td>NaN</td>\n",
       "      <td>NaN</td>\n",
       "      <td>NaN</td>\n",
       "      <td>NaN</td>\n",
       "      <td>NaN</td>\n",
       "      <td>NaN</td>\n",
       "      <td>NaN</td>\n",
       "    </tr>\n",
       "    <tr>\n",
       "      <th>20033</th>\n",
       "      <td>566</td>\n",
       "      <td>55-59</td>\n",
       "      <td>Woman</td>\n",
       "      <td>United Kingdom of Great Britain and Northern I...</td>\n",
       "      <td>Master’s degree</td>\n",
       "      <td>Currently not employed</td>\n",
       "      <td>20+ years</td>\n",
       "      <td>Python</td>\n",
       "      <td>NaN</td>\n",
       "      <td>NaN</td>\n",
       "      <td>...</td>\n",
       "      <td>NaN</td>\n",
       "      <td>NaN</td>\n",
       "      <td>NaN</td>\n",
       "      <td>NaN</td>\n",
       "      <td>NaN</td>\n",
       "      <td>NaN</td>\n",
       "      <td>NaN</td>\n",
       "      <td>NaN</td>\n",
       "      <td>None</td>\n",
       "      <td>NaN</td>\n",
       "    </tr>\n",
       "    <tr>\n",
       "      <th>20034</th>\n",
       "      <td>238</td>\n",
       "      <td>30-34</td>\n",
       "      <td>Man</td>\n",
       "      <td>Brazil</td>\n",
       "      <td>Master’s degree</td>\n",
       "      <td>Research Scientist</td>\n",
       "      <td>&lt; 1 years</td>\n",
       "      <td>Python</td>\n",
       "      <td>NaN</td>\n",
       "      <td>NaN</td>\n",
       "      <td>...</td>\n",
       "      <td>NaN</td>\n",
       "      <td>NaN</td>\n",
       "      <td>NaN</td>\n",
       "      <td>NaN</td>\n",
       "      <td>NaN</td>\n",
       "      <td>NaN</td>\n",
       "      <td>NaN</td>\n",
       "      <td>NaN</td>\n",
       "      <td>NaN</td>\n",
       "      <td>NaN</td>\n",
       "    </tr>\n",
       "    <tr>\n",
       "      <th>20035</th>\n",
       "      <td>625</td>\n",
       "      <td>22-24</td>\n",
       "      <td>Man</td>\n",
       "      <td>India</td>\n",
       "      <td>Bachelor’s degree</td>\n",
       "      <td>Software Engineer</td>\n",
       "      <td>3-5 years</td>\n",
       "      <td>Python</td>\n",
       "      <td>NaN</td>\n",
       "      <td>SQL</td>\n",
       "      <td>...</td>\n",
       "      <td>Weights &amp; Biases</td>\n",
       "      <td>NaN</td>\n",
       "      <td>NaN</td>\n",
       "      <td>TensorBoard</td>\n",
       "      <td>NaN</td>\n",
       "      <td>NaN</td>\n",
       "      <td>Trains</td>\n",
       "      <td>NaN</td>\n",
       "      <td>NaN</td>\n",
       "      <td>NaN</td>\n",
       "    </tr>\n",
       "    <tr>\n",
       "      <th>20036</th>\n",
       "      <td>1031</td>\n",
       "      <td>22-24</td>\n",
       "      <td>Man</td>\n",
       "      <td>Pakistan</td>\n",
       "      <td>Master’s degree</td>\n",
       "      <td>Machine Learning Engineer</td>\n",
       "      <td>&lt; 1 years</td>\n",
       "      <td>Python</td>\n",
       "      <td>NaN</td>\n",
       "      <td>NaN</td>\n",
       "      <td>...</td>\n",
       "      <td>Weights &amp; Biases</td>\n",
       "      <td>NaN</td>\n",
       "      <td>NaN</td>\n",
       "      <td>NaN</td>\n",
       "      <td>NaN</td>\n",
       "      <td>NaN</td>\n",
       "      <td>Trains</td>\n",
       "      <td>NaN</td>\n",
       "      <td>NaN</td>\n",
       "      <td>NaN</td>\n",
       "    </tr>\n",
       "  </tbody>\n",
       "</table>\n",
       "<p>20037 rows × 355 columns</p>\n",
       "</div>"
      ],
      "text/plain": [
       "      Time from Start to Finish (seconds)                           Q1  \\\n",
       "0                   Duration (in seconds)  What is your age (# years)?   \n",
       "1                                    1838                        35-39   \n",
       "2                                  289287                        30-34   \n",
       "3                                     860                        35-39   \n",
       "4                                     507                        30-34   \n",
       "...                                   ...                          ...   \n",
       "20032                                 126                        18-21   \n",
       "20033                                 566                        55-59   \n",
       "20034                                 238                        30-34   \n",
       "20035                                 625                        22-24   \n",
       "20036                                1031                        22-24   \n",
       "\n",
       "                                           Q2  \\\n",
       "0      What is your gender? - Selected Choice   \n",
       "1                                         Man   \n",
       "2                                         Man   \n",
       "3                                         Man   \n",
       "4                                         Man   \n",
       "...                                       ...   \n",
       "20032                                     Man   \n",
       "20033                                   Woman   \n",
       "20034                                     Man   \n",
       "20035                                     Man   \n",
       "20036                                     Man   \n",
       "\n",
       "                                                      Q3  \\\n",
       "0              In which country do you currently reside?   \n",
       "1                                               Colombia   \n",
       "2                               United States of America   \n",
       "3                                              Argentina   \n",
       "4                               United States of America   \n",
       "...                                                  ...   \n",
       "20032                                             Turkey   \n",
       "20033  United Kingdom of Great Britain and Northern I...   \n",
       "20034                                             Brazil   \n",
       "20035                                              India   \n",
       "20036                                           Pakistan   \n",
       "\n",
       "                                                      Q4  \\\n",
       "0      What is the highest level of formal education ...   \n",
       "1                                        Doctoral degree   \n",
       "2                                        Master’s degree   \n",
       "3                                      Bachelor’s degree   \n",
       "4                                        Master’s degree   \n",
       "...                                                  ...   \n",
       "20032  Some college/university study without earning ...   \n",
       "20033                                    Master’s degree   \n",
       "20034                                    Master’s degree   \n",
       "20035                                  Bachelor’s degree   \n",
       "20036                                    Master’s degree   \n",
       "\n",
       "                                                      Q5  \\\n",
       "0      Select the title most similar to your current ...   \n",
       "1                                                Student   \n",
       "2                                          Data Engineer   \n",
       "3                                      Software Engineer   \n",
       "4                                         Data Scientist   \n",
       "...                                                  ...   \n",
       "20032                                                NaN   \n",
       "20033                             Currently not employed   \n",
       "20034                                 Research Scientist   \n",
       "20035                                  Software Engineer   \n",
       "20036                          Machine Learning Engineer   \n",
       "\n",
       "                                                      Q6  \\\n",
       "0      For how many years have you been writing code ...   \n",
       "1                                             5-10 years   \n",
       "2                                             5-10 years   \n",
       "3                                            10-20 years   \n",
       "4                                             5-10 years   \n",
       "...                                                  ...   \n",
       "20032                                                NaN   \n",
       "20033                                          20+ years   \n",
       "20034                                          < 1 years   \n",
       "20035                                          3-5 years   \n",
       "20036                                          < 1 years   \n",
       "\n",
       "                                               Q7_Part_1  \\\n",
       "0      What programming languages do you use on a reg...   \n",
       "1                                                 Python   \n",
       "2                                                 Python   \n",
       "3                                                    NaN   \n",
       "4                                                 Python   \n",
       "...                                                  ...   \n",
       "20032                                                NaN   \n",
       "20033                                             Python   \n",
       "20034                                             Python   \n",
       "20035                                             Python   \n",
       "20036                                             Python   \n",
       "\n",
       "                                               Q7_Part_2  \\\n",
       "0      What programming languages do you use on a reg...   \n",
       "1                                                      R   \n",
       "2                                                      R   \n",
       "3                                                    NaN   \n",
       "4                                                    NaN   \n",
       "...                                                  ...   \n",
       "20032                                                NaN   \n",
       "20033                                                NaN   \n",
       "20034                                                NaN   \n",
       "20035                                                NaN   \n",
       "20036                                                NaN   \n",
       "\n",
       "                                               Q7_Part_3  ...  \\\n",
       "0      What programming languages do you use on a reg...  ...   \n",
       "1                                                    SQL  ...   \n",
       "2                                                    SQL  ...   \n",
       "3                                                    NaN  ...   \n",
       "4                                                    SQL  ...   \n",
       "...                                                  ...  ...   \n",
       "20032                                                NaN  ...   \n",
       "20033                                                NaN  ...   \n",
       "20034                                                NaN  ...   \n",
       "20035                                                SQL  ...   \n",
       "20036                                                NaN  ...   \n",
       "\n",
       "                                            Q35_B_Part_2  \\\n",
       "0      In the next 2 years, do you hope to become mor...   \n",
       "1                                                    NaN   \n",
       "2                                                    NaN   \n",
       "3                                                    NaN   \n",
       "4                                                    NaN   \n",
       "...                                                  ...   \n",
       "20032                                                NaN   \n",
       "20033                                                NaN   \n",
       "20034                                                NaN   \n",
       "20035                                  Weights & Biases    \n",
       "20036                                  Weights & Biases    \n",
       "\n",
       "                                            Q35_B_Part_3  \\\n",
       "0      In the next 2 years, do you hope to become mor...   \n",
       "1                                                    NaN   \n",
       "2                                                    NaN   \n",
       "3                                                    NaN   \n",
       "4                                                    NaN   \n",
       "...                                                  ...   \n",
       "20032                                                NaN   \n",
       "20033                                                NaN   \n",
       "20034                                                NaN   \n",
       "20035                                                NaN   \n",
       "20036                                                NaN   \n",
       "\n",
       "                                            Q35_B_Part_4  \\\n",
       "0      In the next 2 years, do you hope to become mor...   \n",
       "1                                                    NaN   \n",
       "2                                                    NaN   \n",
       "3                                                    NaN   \n",
       "4                                                    NaN   \n",
       "...                                                  ...   \n",
       "20032                                                NaN   \n",
       "20033                                                NaN   \n",
       "20034                                                NaN   \n",
       "20035                                                NaN   \n",
       "20036                                                NaN   \n",
       "\n",
       "                                            Q35_B_Part_5  \\\n",
       "0      In the next 2 years, do you hope to become mor...   \n",
       "1                                           TensorBoard    \n",
       "2                                                    NaN   \n",
       "3                                                    NaN   \n",
       "4                                                    NaN   \n",
       "...                                                  ...   \n",
       "20032                                                NaN   \n",
       "20033                                                NaN   \n",
       "20034                                                NaN   \n",
       "20035                                       TensorBoard    \n",
       "20036                                                NaN   \n",
       "\n",
       "                                            Q35_B_Part_6  \\\n",
       "0      In the next 2 years, do you hope to become mor...   \n",
       "1                                                    NaN   \n",
       "2                                                    NaN   \n",
       "3                                                    NaN   \n",
       "4                                                    NaN   \n",
       "...                                                  ...   \n",
       "20032                                                NaN   \n",
       "20033                                                NaN   \n",
       "20034                                                NaN   \n",
       "20035                                                NaN   \n",
       "20036                                                NaN   \n",
       "\n",
       "                                            Q35_B_Part_7  \\\n",
       "0      In the next 2 years, do you hope to become mor...   \n",
       "1                                                    NaN   \n",
       "2                                                    NaN   \n",
       "3                                                    NaN   \n",
       "4                                                    NaN   \n",
       "...                                                  ...   \n",
       "20032                                                NaN   \n",
       "20033                                                NaN   \n",
       "20034                                                NaN   \n",
       "20035                                                NaN   \n",
       "20036                                                NaN   \n",
       "\n",
       "                                            Q35_B_Part_8  \\\n",
       "0      In the next 2 years, do you hope to become mor...   \n",
       "1                                                    NaN   \n",
       "2                                                    NaN   \n",
       "3                                                    NaN   \n",
       "4                                                    NaN   \n",
       "...                                                  ...   \n",
       "20032                                                NaN   \n",
       "20033                                                NaN   \n",
       "20034                                                NaN   \n",
       "20035                                            Trains    \n",
       "20036                                            Trains    \n",
       "\n",
       "                                            Q35_B_Part_9  \\\n",
       "0      In the next 2 years, do you hope to become mor...   \n",
       "1                                                    NaN   \n",
       "2                                                    NaN   \n",
       "3                                                    NaN   \n",
       "4                                                    NaN   \n",
       "...                                                  ...   \n",
       "20032                                                NaN   \n",
       "20033                                                NaN   \n",
       "20034                                                NaN   \n",
       "20035                                                NaN   \n",
       "20036                                                NaN   \n",
       "\n",
       "                                           Q35_B_Part_10  \\\n",
       "0      In the next 2 years, do you hope to become mor...   \n",
       "1                                                    NaN   \n",
       "2                                                    NaN   \n",
       "3                                                   None   \n",
       "4                                                    NaN   \n",
       "...                                                  ...   \n",
       "20032                                                NaN   \n",
       "20033                                               None   \n",
       "20034                                                NaN   \n",
       "20035                                                NaN   \n",
       "20036                                                NaN   \n",
       "\n",
       "                                             Q35_B_OTHER  \n",
       "0      In the next 2 years, do you hope to become mor...  \n",
       "1                                                    NaN  \n",
       "2                                                    NaN  \n",
       "3                                                    NaN  \n",
       "4                                                    NaN  \n",
       "...                                                  ...  \n",
       "20032                                                NaN  \n",
       "20033                                                NaN  \n",
       "20034                                                NaN  \n",
       "20035                                                NaN  \n",
       "20036                                                NaN  \n",
       "\n",
       "[20037 rows x 355 columns]"
      ]
     },
     "execution_count": 1,
     "metadata": {},
     "output_type": "execute_result"
    }
   ],
   "source": [
    "import numpy as np\n",
    "import pandas as pd\n",
    "import seaborn as sns\n",
    "import matplotlib.pyplot as plt\n",
    "\n",
    "raw = pd.read_csv(\"C:/data/kaggle_survey.csv\")\n",
    "raw.shape\n",
    "raw"
   ]
  },
  {
   "cell_type": "code",
   "execution_count": 2,
   "metadata": {},
   "outputs": [
    {
     "name": "stdout",
     "output_type": "stream",
     "text": [
      "<class 'pandas.core.frame.DataFrame'>\n",
      "RangeIndex: 20037 entries, 0 to 20036\n",
      "Columns: 355 entries, Time from Start to Finish (seconds) to Q35_B_OTHER\n",
      "dtypes: object(355)\n",
      "memory usage: 54.3+ MB\n"
     ]
    }
   ],
   "source": [
    "raw.head()\n",
    "raw.tail()\n",
    "raw.info()\n",
    "question = raw.iloc[0]\n",
    "answer = raw.drop([0])"
   ]
  },
  {
   "cell_type": "code",
   "execution_count": 12,
   "metadata": {},
   "outputs": [
    {
     "name": "stdout",
     "output_type": "stream",
     "text": [
      "Index(['Argentina', 'Australia', 'Bangladesh', 'Belarus', 'Belgium', 'Brazil',\n",
      "       'Canada', 'Chile', 'China', 'Colombia', 'Egypt', 'France', 'Germany',\n",
      "       'Ghana', 'Greece', 'India', 'Indonesia', 'Iran, Islamic Republic of...',\n",
      "       'Ireland', 'Israel', 'Italy', 'Japan', 'Kenya', 'Malaysia', 'Mexico',\n",
      "       'Morocco', 'Nepal', 'Netherlands', 'Nigeria', 'Other', 'Pakistan',\n",
      "       'Peru', 'Philippines', 'Poland', 'Portugal', 'Republic of Korea',\n",
      "       'Romania', 'Russia', 'Saudi Arabia', 'Singapore', 'South Africa',\n",
      "       'South Korea', 'Spain', 'Sri Lanka', 'Sweden', 'Switzerland', 'Taiwan',\n",
      "       'Thailand', 'Tunisia', 'Turkey', 'Ukraine', 'United Arab Emirates',\n",
      "       'United Kingdom of Great Britain and Northern Ireland',\n",
      "       'United States of America', 'Viet Nam'],\n",
      "      dtype='object')\n",
      "[ 134  231  143   59   60  694  301   85  474  177  179  330  404   52\n",
      "  111 5851  290  162   54   97  267  638  153  133  227  133   62  151\n",
      "  476 1388  283   95   99  148  122   76   61  582   76  149  141  190\n",
      "  336   72   78   68  267  132   99  344  170   59  489 2237  147]\n"
     ]
    },
    {
     "data": {
      "text/plain": [
       "<BarContainer object of 55 artists>"
      ]
     },
     "execution_count": 12,
     "metadata": {},
     "output_type": "execute_result"
    },
    {
     "data": {
      "image/png": "[encoded data removed]",
      "text/plain": [
       "<Figure size 432x288 with 1 Axes>"
      ]
     },
     "metadata": {
      "needs_background": "light"
     },
     "output_type": "display_data"
    }
   ],
   "source": [
    "q1_count = answer[\"Q3\"].value_counts().sort_index()\n",
    "print(q1_count.index)\n",
    "print(q1_count.values)\n",
    "plt.barh(q1_count.index, q1_count)"
   ]
  },
  {
   "cell_type": "code",
   "execution_count": 4,
   "metadata": {},
   "outputs": [
    {
     "name": "stdout",
     "output_type": "stream",
     "text": [
      "What programming languages do you use on a regular basis? (Select all that apply) - Selected Choice - R\n",
      "      Q7_Part_1 Q7_Part_2 Q7_Part_3 Q7_Part_4 Q7_Part_5 Q7_Part_6   Q7_Part_7  \\\n",
      "1        Python         R       SQL         C       NaN       NaN  Javascript   \n",
      "2        Python         R       SQL       NaN       NaN       NaN         NaN   \n",
      "3           NaN       NaN       NaN       NaN       NaN      Java  Javascript   \n",
      "4        Python       NaN       SQL       NaN       NaN       NaN         NaN   \n",
      "5        Python       NaN       NaN       NaN       NaN       NaN         NaN   \n",
      "...         ...       ...       ...       ...       ...       ...         ...   \n",
      "20032       NaN       NaN       NaN       NaN       NaN       NaN         NaN   \n",
      "20033    Python       NaN       NaN       NaN       NaN       NaN         NaN   \n",
      "20034    Python       NaN       NaN       NaN       NaN       NaN         NaN   \n",
      "20035    Python       NaN       SQL         C       NaN      Java  Javascript   \n",
      "20036    Python       NaN       NaN       NaN       NaN       NaN         NaN   \n",
      "\n",
      "      Q7_Part_8 Q7_Part_9 Q7_Part_10 Q7_Part_11 Q7_Part_12 Q7_OTHER  \n",
      "1           NaN       NaN        NaN     MATLAB        NaN    Other  \n",
      "2           NaN       NaN        NaN        NaN        NaN      NaN  \n",
      "3           NaN       NaN       Bash        NaN        NaN      NaN  \n",
      "4           NaN       NaN       Bash        NaN        NaN      NaN  \n",
      "5           NaN       NaN        NaN        NaN        NaN      NaN  \n",
      "...         ...       ...        ...        ...        ...      ...  \n",
      "20032       NaN       NaN        NaN        NaN        NaN      NaN  \n",
      "20033       NaN       NaN        NaN        NaN        NaN      NaN  \n",
      "20034       NaN       NaN        NaN        NaN        NaN      NaN  \n",
      "20035       NaN       NaN        NaN        NaN        NaN      NaN  \n",
      "20036       NaN       NaN        NaN        NaN        NaN      NaN  \n",
      "\n",
      "[20036 rows x 13 columns]\n"
     ]
    },
    {
     "data": {
      "text/plain": [
       "Q7_Part_1     15530\n",
       "Q7_Part_2      4277\n",
       "Q7_Part_3      7535\n",
       "Q7_Part_4      3315\n",
       "Q7_Part_5      3827\n",
       "Q7_Part_6      3367\n",
       "Q7_Part_7      2995\n",
       "Q7_Part_8       262\n",
       "Q7_Part_9       198\n",
       "Q7_Part_10     1776\n",
       "Q7_Part_11     2217\n",
       "Q7_Part_12      206\n",
       "Q7_OTHER       1945\n",
       "dtype: int64"
      ]
     },
     "execution_count": 4,
     "metadata": {},
     "output_type": "execute_result"
    }
   ],
   "source": [
    "question_q7 = question.filter(regex = \"Q7\")\n",
    "print(question_q7[1])\n",
    "question_q7 = question.filter(regex = \"Q7\")[0].split('-')[0]\n",
    "answer_Q7 = answer.filter(regex = \"Q7\")\n",
    "print(answer_Q7)\n",
    "answer_Q7.notnull().sum()"
   ]
  },
  {
   "cell_type": "code",
   "execution_count": 6,
   "metadata": {},
   "outputs": [
    {
     "data": {
      "text/html": [
       "<div>\n",
       "<style scoped>\n",
       "    .dataframe tbody tr th:only-of-type {\n",
       "        vertical-align: middle;\n",
       "    }\n",
       "\n",
       "    .dataframe tbody tr th {\n",
       "        vertical-align: top;\n",
       "    }\n",
       "\n",
       "    .dataframe thead th {\n",
       "        text-align: right;\n",
       "    }\n",
       "</style>\n",
       "<table border=\"1\" class=\"dataframe\">\n",
       "  <thead>\n",
       "    <tr style=\"text-align: right;\">\n",
       "      <th></th>\n",
       "      <th>count</th>\n",
       "    </tr>\n",
       "    <tr>\n",
       "      <th>top</th>\n",
       "      <th></th>\n",
       "    </tr>\n",
       "  </thead>\n",
       "  <tbody>\n",
       "    <tr>\n",
       "      <th>Python</th>\n",
       "      <td>15530</td>\n",
       "    </tr>\n",
       "    <tr>\n",
       "      <th>R</th>\n",
       "      <td>4277</td>\n",
       "    </tr>\n",
       "    <tr>\n",
       "      <th>SQL</th>\n",
       "      <td>7535</td>\n",
       "    </tr>\n",
       "    <tr>\n",
       "      <th>C</th>\n",
       "      <td>3315</td>\n",
       "    </tr>\n",
       "    <tr>\n",
       "      <th>C++</th>\n",
       "      <td>3827</td>\n",
       "    </tr>\n",
       "    <tr>\n",
       "      <th>Java</th>\n",
       "      <td>3367</td>\n",
       "    </tr>\n",
       "    <tr>\n",
       "      <th>Javascript</th>\n",
       "      <td>2995</td>\n",
       "    </tr>\n",
       "    <tr>\n",
       "      <th>Julia</th>\n",
       "      <td>262</td>\n",
       "    </tr>\n",
       "    <tr>\n",
       "      <th>Swift</th>\n",
       "      <td>198</td>\n",
       "    </tr>\n",
       "    <tr>\n",
       "      <th>Bash</th>\n",
       "      <td>1776</td>\n",
       "    </tr>\n",
       "    <tr>\n",
       "      <th>MATLAB</th>\n",
       "      <td>2217</td>\n",
       "    </tr>\n",
       "    <tr>\n",
       "      <th>None</th>\n",
       "      <td>206</td>\n",
       "    </tr>\n",
       "    <tr>\n",
       "      <th>Other</th>\n",
       "      <td>1945</td>\n",
       "    </tr>\n",
       "  </tbody>\n",
       "</table>\n",
       "</div>"
      ],
      "text/plain": [
       "            count\n",
       "top              \n",
       "Python      15530\n",
       "R            4277\n",
       "SQL          7535\n",
       "C            3315\n",
       "C++          3827\n",
       "Java         3367\n",
       "Javascript   2995\n",
       "Julia         262\n",
       "Swift         198\n",
       "Bash         1776\n",
       "MATLAB       2217\n",
       "None          206\n",
       "Other        1945"
      ]
     },
     "execution_count": 6,
     "metadata": {},
     "output_type": "execute_result"
    }
   ],
   "source": [
    "answer_Q7_desc = answer_Q7.describe()\n",
    "answer_Q7_desc.loc[[\"top\", \"count\"]]\n",
    "answer_Q7_desc.loc[[\"top\", \"count\"]].T.set_index(\"top\")"
   ]
  },
  {
   "cell_type": "code",
   "execution_count": 7,
   "metadata": {},
   "outputs": [
    {
     "data": {
      "text/html": [
       "<div>\n",
       "<style scoped>\n",
       "    .dataframe tbody tr th:only-of-type {\n",
       "        vertical-align: middle;\n",
       "    }\n",
       "\n",
       "    .dataframe tbody tr th {\n",
       "        vertical-align: top;\n",
       "    }\n",
       "\n",
       "    .dataframe thead th {\n",
       "        text-align: right;\n",
       "    }\n",
       "</style>\n",
       "<table border=\"1\" class=\"dataframe\">\n",
       "  <thead>\n",
       "    <tr style=\"text-align: right;\">\n",
       "      <th></th>\n",
       "      <th>count</th>\n",
       "    </tr>\n",
       "    <tr>\n",
       "      <th>top</th>\n",
       "      <th></th>\n",
       "    </tr>\n",
       "  </thead>\n",
       "  <tbody>\n",
       "    <tr>\n",
       "      <th>Python</th>\n",
       "      <td>15530</td>\n",
       "    </tr>\n",
       "    <tr>\n",
       "      <th>SQL</th>\n",
       "      <td>7535</td>\n",
       "    </tr>\n",
       "    <tr>\n",
       "      <th>R</th>\n",
       "      <td>4277</td>\n",
       "    </tr>\n",
       "    <tr>\n",
       "      <th>C++</th>\n",
       "      <td>3827</td>\n",
       "    </tr>\n",
       "    <tr>\n",
       "      <th>Java</th>\n",
       "      <td>3367</td>\n",
       "    </tr>\n",
       "    <tr>\n",
       "      <th>C</th>\n",
       "      <td>3315</td>\n",
       "    </tr>\n",
       "    <tr>\n",
       "      <th>Javascript</th>\n",
       "      <td>2995</td>\n",
       "    </tr>\n",
       "    <tr>\n",
       "      <th>MATLAB</th>\n",
       "      <td>2217</td>\n",
       "    </tr>\n",
       "    <tr>\n",
       "      <th>Other</th>\n",
       "      <td>1945</td>\n",
       "    </tr>\n",
       "    <tr>\n",
       "      <th>Bash</th>\n",
       "      <td>1776</td>\n",
       "    </tr>\n",
       "    <tr>\n",
       "      <th>Julia</th>\n",
       "      <td>262</td>\n",
       "    </tr>\n",
       "    <tr>\n",
       "      <th>None</th>\n",
       "      <td>206</td>\n",
       "    </tr>\n",
       "    <tr>\n",
       "      <th>Swift</th>\n",
       "      <td>198</td>\n",
       "    </tr>\n",
       "  </tbody>\n",
       "</table>\n",
       "</div>"
      ],
      "text/plain": [
       "            count\n",
       "top              \n",
       "Python      15530\n",
       "SQL          7535\n",
       "R            4277\n",
       "C++          3827\n",
       "Java         3367\n",
       "C            3315\n",
       "Javascript   2995\n",
       "MATLAB       2217\n",
       "Other        1945\n",
       "Bash         1776\n",
       "Julia         262\n",
       "None          206\n",
       "Swift         198"
      ]
     },
     "execution_count": 7,
     "metadata": {},
     "output_type": "execute_result"
    }
   ],
   "source": [
    "answer_Q7_count = answer_Q7_desc.loc[[\"top\", \"count\"]].T\n",
    "answer_Q7_count = answer_Q7_count.set_index(\"top\")\n",
    "answer_Q7_count = answer_Q7_count.sort_values(\"count\", ascending=False)\n",
    "answer_Q7_count"
   ]
  },
  {
   "cell_type": "code",
   "execution_count": 8,
   "metadata": {},
   "outputs": [
    {
     "data": {
      "text/html": [
       "<div>\n",
       "<style scoped>\n",
       "    .dataframe tbody tr th:only-of-type {\n",
       "        vertical-align: middle;\n",
       "    }\n",
       "\n",
       "    .dataframe tbody tr th {\n",
       "        vertical-align: top;\n",
       "    }\n",
       "\n",
       "    .dataframe thead th {\n",
       "        text-align: right;\n",
       "    }\n",
       "</style>\n",
       "<table border=\"1\" class=\"dataframe\">\n",
       "  <thead>\n",
       "    <tr style=\"text-align: right;\">\n",
       "      <th></th>\n",
       "      <th>count</th>\n",
       "    </tr>\n",
       "    <tr>\n",
       "      <th>top</th>\n",
       "      <th></th>\n",
       "    </tr>\n",
       "  </thead>\n",
       "  <tbody>\n",
       "    <tr>\n",
       "      <th>Python</th>\n",
       "      <td>15530</td>\n",
       "    </tr>\n",
       "    <tr>\n",
       "      <th>SQL</th>\n",
       "      <td>7535</td>\n",
       "    </tr>\n",
       "    <tr>\n",
       "      <th>R</th>\n",
       "      <td>4277</td>\n",
       "    </tr>\n",
       "    <tr>\n",
       "      <th>C++</th>\n",
       "      <td>3827</td>\n",
       "    </tr>\n",
       "    <tr>\n",
       "      <th>Java</th>\n",
       "      <td>3367</td>\n",
       "    </tr>\n",
       "    <tr>\n",
       "      <th>C</th>\n",
       "      <td>3315</td>\n",
       "    </tr>\n",
       "    <tr>\n",
       "      <th>Javascript</th>\n",
       "      <td>2995</td>\n",
       "    </tr>\n",
       "    <tr>\n",
       "      <th>MATLAB</th>\n",
       "      <td>2217</td>\n",
       "    </tr>\n",
       "    <tr>\n",
       "      <th>Other</th>\n",
       "      <td>1945</td>\n",
       "    </tr>\n",
       "    <tr>\n",
       "      <th>Bash</th>\n",
       "      <td>1776</td>\n",
       "    </tr>\n",
       "    <tr>\n",
       "      <th>Julia</th>\n",
       "      <td>262</td>\n",
       "    </tr>\n",
       "    <tr>\n",
       "      <th>None</th>\n",
       "      <td>206</td>\n",
       "    </tr>\n",
       "    <tr>\n",
       "      <th>Swift</th>\n",
       "      <td>198</td>\n",
       "    </tr>\n",
       "  </tbody>\n",
       "</table>\n",
       "</div>"
      ],
      "text/plain": [
       "            count\n",
       "top              \n",
       "Python      15530\n",
       "SQL          7535\n",
       "R            4277\n",
       "C++          3827\n",
       "Java         3367\n",
       "C            3315\n",
       "Javascript   2995\n",
       "MATLAB       2217\n",
       "Other        1945\n",
       "Bash         1776\n",
       "Julia         262\n",
       "None          206\n",
       "Swift         198"
      ]
     },
     "execution_count": 8,
     "metadata": {},
     "output_type": "execute_result"
    }
   ],
   "source": [
    "answer_Q7_count = answer_Q7_desc.loc[[\"top\", \"count\"]].T\n",
    "answer_Q7_count = answer_Q7_count.set_index(\"top\")\n",
    "answer_Q7_count = answer_Q7_count.sort_values(\"count\", ascending = False)\n",
    "answer_Q7_count"
   ]
  },
  {
   "cell_type": "code",
   "execution_count": 9,
   "metadata": {},
   "outputs": [
    {
     "data": {
      "text/plain": [
       "Text(0.5, 1.0, 'What programming languages do you use on a regular basis? (Select all that apply) ')"
      ]
     },
     "execution_count": 9,
     "metadata": {},
     "output_type": "execute_result"
    },
    {
     "data": {
      "image/png": "[encoded data removed]",
      "text/plain": [
       "<Figure size 432x288 with 1 Axes>"
      ]
     },
     "metadata": {
      "needs_background": "light"
     },
     "output_type": "display_data"
    }
   ],
   "source": [
    "q7_title = question.filter(regex=\"Q7\")[0].split('-')[0]\n",
    "sns.barplot(data = answer_Q7_count, y = answer_Q7_count.index, x = \"count\", palette = \"Blues_r\").set_title(q7_title)"
   ]
  },
  {
   "cell_type": "markdown",
   "metadata": {},
   "source": [
    "multiple question 반복 함수"
   ]
  },
  {
   "cell_type": "code",
   "execution_count": 10,
   "metadata": {},
   "outputs": [],
   "source": [
    "def get_question_title_by_qno(qno):\n",
    "    if qno in question.index:\n",
    "        return question[qno]\n",
    "    else:\n",
    "        q_no = question.filter(regex = qno)[0].split('-')[0]\n",
    "        return q_no"
   ]
  },
  {
   "cell_type": "code",
   "execution_count": 11,
   "metadata": {},
   "outputs": [
    {
     "data": {
      "image/png": "[encoded data removed]",
      "text/plain": [
       "<Figure size 432x288 with 1 Axes>"
      ]
     },
     "metadata": {
      "needs_background": "light"
     },
     "output_type": "display_data"
    }
   ],
   "source": [
    "def show_countplot_by_qno(qno, order = None):\n",
    "    if not order:\n",
    "        order = answer[qno].value_counts().index\n",
    "    sns.countplot(data = answer.sort_values(\"Q1\"), y = qno, palette = \"Blues_r\")\n",
    "show_countplot_by_qno(\"Q1\")"
   ]
  },
  {
   "cell_type": "code",
   "execution_count": 12,
   "metadata": {},
   "outputs": [
    {
     "data": {
      "text/html": [
       "<div>\n",
       "<style scoped>\n",
       "    .dataframe tbody tr th:only-of-type {\n",
       "        vertical-align: middle;\n",
       "    }\n",
       "\n",
       "    .dataframe tbody tr th {\n",
       "        vertical-align: top;\n",
       "    }\n",
       "\n",
       "    .dataframe thead th {\n",
       "        text-align: right;\n",
       "    }\n",
       "</style>\n",
       "<table border=\"1\" class=\"dataframe\">\n",
       "  <thead>\n",
       "    <tr style=\"text-align: right;\">\n",
       "      <th></th>\n",
       "      <th>count</th>\n",
       "    </tr>\n",
       "    <tr>\n",
       "      <th>top</th>\n",
       "      <th></th>\n",
       "    </tr>\n",
       "  </thead>\n",
       "  <tbody>\n",
       "    <tr>\n",
       "      <th>Python</th>\n",
       "      <td>15530</td>\n",
       "    </tr>\n",
       "    <tr>\n",
       "      <th>SQL</th>\n",
       "      <td>7535</td>\n",
       "    </tr>\n",
       "    <tr>\n",
       "      <th>R</th>\n",
       "      <td>4277</td>\n",
       "    </tr>\n",
       "    <tr>\n",
       "      <th>C++</th>\n",
       "      <td>3827</td>\n",
       "    </tr>\n",
       "    <tr>\n",
       "      <th>Java</th>\n",
       "      <td>3367</td>\n",
       "    </tr>\n",
       "    <tr>\n",
       "      <th>C</th>\n",
       "      <td>3315</td>\n",
       "    </tr>\n",
       "    <tr>\n",
       "      <th>Javascript</th>\n",
       "      <td>2995</td>\n",
       "    </tr>\n",
       "    <tr>\n",
       "      <th>MATLAB</th>\n",
       "      <td>2217</td>\n",
       "    </tr>\n",
       "    <tr>\n",
       "      <th>Other</th>\n",
       "      <td>1945</td>\n",
       "    </tr>\n",
       "    <tr>\n",
       "      <th>Bash</th>\n",
       "      <td>1776</td>\n",
       "    </tr>\n",
       "    <tr>\n",
       "      <th>Julia</th>\n",
       "      <td>262</td>\n",
       "    </tr>\n",
       "    <tr>\n",
       "      <th>None</th>\n",
       "      <td>206</td>\n",
       "    </tr>\n",
       "    <tr>\n",
       "      <th>Swift</th>\n",
       "      <td>198</td>\n",
       "    </tr>\n",
       "  </tbody>\n",
       "</table>\n",
       "</div>"
      ],
      "text/plain": [
       "            count\n",
       "top              \n",
       "Python      15530\n",
       "SQL          7535\n",
       "R            4277\n",
       "C++          3827\n",
       "Java         3367\n",
       "C            3315\n",
       "Javascript   2995\n",
       "MATLAB       2217\n",
       "Other        1945\n",
       "Bash         1776\n",
       "Julia         262\n",
       "None          206\n",
       "Swift         198"
      ]
     },
     "execution_count": 12,
     "metadata": {},
     "output_type": "execute_result"
    }
   ],
   "source": [
    "def get_multiple_choice_answer_by_qno(qno):\n",
    "    df_answer = answer.filter(regex = qno)\n",
    "    answer_desc = df_answer.describe()\n",
    "    answer_count = answer_desc.loc[['top', 'count']].T.set_index(\"top\")\n",
    "    answer_count = answer_count.sort_values(by = 'count', ascending = False)\n",
    "    return answer_count\n",
    "get_multiple_choice_answer_by_qno(\"Q7\")"
   ]
  },
  {
   "cell_type": "code",
   "execution_count": 13,
   "metadata": {},
   "outputs": [
    {
     "data": {
      "image/png": "[encoded data removed]",
      "text/plain": [
       "<Figure size 432x288 with 1 Axes>"
      ]
     },
     "metadata": {
      "needs_background": "light"
     },
     "output_type": "display_data"
    }
   ],
   "source": [
    "def show_multiple_choice_bar_plot_by_qno(qno):\n",
    "    multiple_choice_answer = get_multiple_choice_answer_by_qno(qno)\n",
    "    sns.barplot(data = multiple_choice_answer, y = multiple_choice_answer.index, x = \"count\",\n",
    "               palette = \"Blues_r\").set_title(get_question_title_by_qno(qno))\n",
    "show_multiple_choice_bar_plot_by_qno(\"Q7\")"
   ]
  },
  {
   "cell_type": "code",
   "execution_count": 14,
   "metadata": {},
   "outputs": [
    {
     "data": {
      "text/plain": [
       "<AxesSubplot:ylabel='Q1'>"
      ]
     },
     "execution_count": 14,
     "metadata": {},
     "output_type": "execute_result"
    },
    {
     "data": {
      "image/png": "[encoded data removed]",
      "text/plain": [
       "<Figure size 432x288 with 1 Axes>"
      ]
     },
     "metadata": {
      "needs_background": "light"
     },
     "output_type": "display_data"
    },
    {
     "data": {
      "image/png": "[encoded data removed]",
      "text/plain": [
       "<Figure size 432x288 with 1 Axes>"
      ]
     },
     "metadata": {
      "needs_background": "light"
     },
     "output_type": "display_data"
    },
    {
     "data": {
      "image/png": "[encoded data removed]",
      "text/plain": [
       "<Figure size 432x288 with 1 Axes>"
      ]
     },
     "metadata": {
      "needs_background": "light"
     },
     "output_type": "display_data"
    },
    {
     "data": {
      "image/png": "[encoded data removed]",
      "text/plain": [
       "<Figure size 432x288 with 1 Axes>"
      ]
     },
     "metadata": {
      "needs_background": "light"
     },
     "output_type": "display_data"
    }
   ],
   "source": [
    "q1q2 = pd.crosstab(answer[\"Q1\"], answer[\"Q2\"]) # 주로 두 개 같이 사용할 때\n",
    "q1q2[[\"Man\", \"Woman\"]].plot()\n",
    "q1q2[[\"Man\", \"Woman\"]].plot.bar(rot = 0)\n",
    "q1q2[[\"Man\", \"Woman\"]].plot.barh()\n",
    "q1q2[[\"Man\", \"Woman\"]].sort_index(ascending = False).plot.barh()"
   ]
  },
  {
   "cell_type": "code",
   "execution_count": 19,
   "metadata": {},
   "outputs": [
    {
     "data": {
      "text/plain": [
       "<AxesSubplot:>"
      ]
     },
     "execution_count": 19,
     "metadata": {},
     "output_type": "execute_result"
    },
    {
     "data": {
      "image/png": "[encoded data removed]",
      "text/plain": [
       "<Figure size 432x288 with 1 Axes>"
      ]
     },
     "metadata": {
      "needs_background": "light"
     },
     "output_type": "display_data"
    },
    {
     "data": {
      "image/png": "[encoded data removed]",
      "text/plain": [
       "<Figure size 432x288 with 1 Axes>"
      ]
     },
     "metadata": {
      "needs_background": "light"
     },
     "output_type": "display_data"
    },
    {
     "data": {
      "image/png": "[encoded data removed]",
      "text/plain": [
       "<Figure size 432x288 with 1 Axes>"
      ]
     },
     "metadata": {
      "needs_background": "light"
     },
     "output_type": "display_data"
    },
    {
     "data": {
      "image/png": "[encoded data removed]",
      "text/plain": [
       "<Figure size 432x288 with 1 Axes>"
      ]
     },
     "metadata": {
      "needs_background": "light"
     },
     "output_type": "display_data"
    }
   ],
   "source": [
    "q7_cols = answer.filter(regex = \"Q7\").describe().loc[\"top\"].tolist()\n",
    "q2q7 = answer.filter(regex = \"Q2$|Q7\")\n",
    "q2q7_count = q2q7.groupby(\"Q2\").count()\n",
    "q2q7_count.columns = q7_cols\n",
    "q2q7_count.loc[[\"Man\", \"Woman\"]].plot.bar()\n",
    "q2q7_count.loc[[\"Man\", \"Woman\"]].T.plot.bar()\n",
    "q2q7_count.loc[[\"Man\", \"Woman\"]].T.plot.barh()\n",
    "q2q7_count.loc[[\"Man\", \"Woman\"]].T.sort_values(\"Woman\").plot.barh()"
   ]
  },
  {
   "cell_type": "code",
   "execution_count": 21,
   "metadata": {},
   "outputs": [
    {
     "data": {
      "image/png": "[encoded data removed]",
      "text/plain": [
       "<Figure size 432x288 with 1 Axes>"
      ]
     },
     "metadata": {
      "needs_background": "light"
     },
     "output_type": "display_data"
    }
   ],
   "source": [
    "def show_plot_by_qno(qno):\n",
    "    if qno in question.index:\n",
    "        show_countplot_by_qno(qno)\n",
    "    else:\n",
    "        show_multiple_choice_bar_plot_by_qno(qno)\n",
    "show_plot_by_qno(\"Q1\")"
   ]
  },
  {
   "cell_type": "code",
   "execution_count": 38,
   "metadata": {},
   "outputs": [
    {
     "data": {
      "text/plain": [
       "<AxesSubplot:xlabel='count', ylabel='Q24'>"
      ]
     },
     "execution_count": 38,
     "metadata": {},
     "output_type": "execute_result"
    },
    {
     "data": {
      "image/png": "[encoded data removed]",
      "text/plain": [
       "<Figure size 720x576 with 1 Axes>"
      ]
     },
     "metadata": {
      "needs_background": "light"
     },
     "output_type": "display_data"
    },
    {
     "data": {
      "image/png": "[encoded data removed]",
      "text/plain": [
       "<Figure size 720x432 with 1 Axes>"
      ]
     },
     "metadata": {
      "needs_background": "light"
     },
     "output_type": "display_data"
    }
   ],
   "source": [
    "q24_count = answer[\"Q24\"].value_counts().reset_index()\n",
    "q24_count.columns = ['range', 'count']\n",
    "q24_count[\"min\"] = q24_count[\"range\"].str.split(\"-\", expand = True)[0] #dataframe으로 반환\n",
    "q24_count[\"max\"] = q24_count[\"range\"].str.split(\"-\", expand = True)[1]\n",
    "q24_count[\"min\"] = q24_count[\"min\"].str.replace(\",|\\$|>\", \"\").astype(int)\n",
    "q24_count = q24_count.sort_values(\"min\")\n",
    "plt.figure(figsize = (10, 8))\n",
    "sns.barplot(data = q24_count, x = \"count\", y = \"range\")\n",
    "\n",
    "q24_cols = q24_count.range.tolist()\n",
    "q3_usa = answer[answer[\"Q3\"].isin(['South Korea'])]\n",
    "plt.figure(figsize = (10, 6))\n",
    "sns.countplot(data = q3_usa, y = \"Q24\", order = q24_cols, palette = \"Blues\")"
   ]
  },
  {
   "cell_type": "code",
   "execution_count": null,
   "metadata": {},
   "outputs": [],
   "source": []
  }
 ],
 "metadata": {
  "kernelspec": {
   "display_name": "Python 3",
   "language": "python",
   "name": "python3"
  },
  "language_info": {
   "codemirror_mode": {
    "name": "ipython",
    "version": 3
   },
   "file_extension": ".py",
   "mimetype": "text/x-python",
   "name": "python",
   "nbconvert_exporter": "python",
   "pygments_lexer": "ipython3",
   "version": "3.8.5"
  }
 },
 "nbformat": 4,
 "nbformat_minor": 4
}
